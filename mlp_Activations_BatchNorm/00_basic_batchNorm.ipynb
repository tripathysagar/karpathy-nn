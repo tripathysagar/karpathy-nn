{
 "cells": [
  {
   "cell_type": "code",
   "execution_count": null,
   "id": "00493ec2-df5b-4d40-b3c0-480d43258746",
   "metadata": {},
   "outputs": [],
   "source": [
    "import torch\n",
    "import torch.nn.functional as F\n",
    "import matplotlib.pyplot as plt\n",
    "%matplotlib inline "
   ]
  },
  {
   "cell_type": "code",
   "execution_count": null,
   "id": "12d4a1dd-961e-47f2-9b0e-771865229a64",
   "metadata": {},
   "outputs": [
    {
     "data": {
      "text/plain": [
       "['emma', 'olivia']"
      ]
     },
     "execution_count": null,
     "metadata": {},
     "output_type": "execute_result"
    }
   ],
   "source": [
    "words = open('../names.txt', 'r').read().splitlines()\n",
    "words[:2]"
   ]
  },
  {
   "cell_type": "code",
   "execution_count": null,
   "id": "718f1508-7b14-4348-8c0a-6b793e4d2726",
   "metadata": {},
   "outputs": [],
   "source": [
    "chars = ['.'] + sorted(set(''.join(words)))\n",
    "stoi = {k:i for i, k in enumerate(chars)}\n",
    "itos = {v:k for k, v in stoi.items()}"
   ]
  },
  {
   "cell_type": "code",
   "execution_count": null,
   "id": "724bf9ef-30b7-4584-ba04-7ed5fd4ae6ce",
   "metadata": {},
   "outputs": [
    {
     "name": "stdout",
     "output_type": "stream",
     "text": [
      "torch.Size([182625, 3]) torch.Size([182625])\n",
      "torch.Size([22655, 3]) torch.Size([22655])\n",
      "torch.Size([22866, 3]) torch.Size([22866])\n"
     ]
    }
   ],
   "source": [
    "block_size = 3\n",
    "\n",
    "def build_dataset(words):\n",
    "    X, Y = [], []\n",
    "    \n",
    "    for word in words:\n",
    "        context = [0] * block_size\n",
    "    \n",
    "        for w in word + '.':\n",
    "            #print(contex, w)\n",
    "            X.append(context)\n",
    "            Y.append(stoi[w])\n",
    "            #print(''.join(itos[i] for i in context), '--->', w)\n",
    "            context = context[1:] + [stoi[w]]\n",
    "        \n",
    "    X = torch.tensor(X)\n",
    "    Y = torch.tensor(Y)\n",
    "    print(X.shape, Y.shape)\n",
    "    return X, Y\n",
    "\n",
    "import random\n",
    "random.seed(42)\n",
    "random.shuffle(words)\n",
    "n1 = int(0.8*len(words))\n",
    "n2 = int(0.9*len(words))\n",
    "\n",
    "Xtr, Ytr = build_dataset(words[:n1])\n",
    "Xdev, Ydev = build_dataset(words[n1:n2])\n",
    "Xte, Yte = build_dataset(words[n2:])"
   ]
  },
  {
   "cell_type": "code",
   "execution_count": null,
   "id": "2666bffb-e945-4de0-96b5-60d648c861e0",
   "metadata": {},
   "outputs": [],
   "source": [
    "n_emb = 10\n",
    "n_hid = 100\n",
    "\n",
    "g = torch.Generator().manual_seed(2147483647) \n",
    "C = torch.randn((27, n_emb), generator=g)\n",
    "W1 = torch.randn((block_size*n_emb, n_hid), generator=g) + (5/3)/((n_emb * block_size)**0.5)\n",
    "b1 = torch.randn(n_hid, generator=g) * 0.1\n",
    "W2 = torch.randn((n_hid, 27), generator=g) * 0.1\n",
    "b2 = torch.randn(27, generator=g) * 0.1\n",
    "\n",
    "parameters = [C, W1, b1, W2, b2]\n",
    "for p in parameters:\n",
    "    p.requires_grad_(True)"
   ]
  },
  {
   "cell_type": "code",
   "execution_count": null,
   "id": "3fcf596f-32c6-4696-aafe-32561e72a141",
   "metadata": {},
   "outputs": [],
   "source": [
    "bs = 64\n",
    "max_steps = 200000"
   ]
  },
  {
   "cell_type": "code",
   "execution_count": null,
   "id": "86780e68-887d-49f5-ab1f-40715b4e0b73",
   "metadata": {},
   "outputs": [
    {
     "name": "stdout",
     "output_type": "stream",
     "text": [
      "      0/ 200000: 18.8123\n",
      "  10000/ 200000: 2.5812\n",
      "  20000/ 200000: 2.2382\n",
      "  30000/ 200000: 2.2777\n",
      "  40000/ 200000: 2.5078\n",
      "  50000/ 200000: 2.2717\n",
      "  60000/ 200000: 2.2425\n",
      "  70000/ 200000: 2.2289\n",
      "  80000/ 200000: 2.0870\n",
      "  90000/ 200000: 2.3851\n",
      " 100000/ 200000: 2.1251\n",
      " 110000/ 200000: 2.1934\n",
      " 120000/ 200000: 2.2785\n",
      " 130000/ 200000: 2.2837\n",
      " 140000/ 200000: 2.2450\n",
      " 150000/ 200000: 1.9339\n",
      " 160000/ 200000: 1.9809\n",
      " 170000/ 200000: 1.8107\n",
      " 180000/ 200000: 1.9862\n",
      " 190000/ 200000: 2.3390\n"
     ]
    }
   ],
   "source": [
    "lossi = []\n",
    "\n",
    "for i in range(max_steps):\n",
    "    # mini batch \n",
    "    ix = torch.randint(0, Xtr.shape[0], (bs,))\n",
    "\n",
    "    #forward pass\n",
    "    emb = C[Xtr[ix]].view((bs, -1))              # shape: bs,-1\n",
    "\n",
    "    h = torch.tanh(emb @ W1 + b1)\n",
    "    logits = h @ W2 + b2\n",
    "\n",
    "    for p in parameters:\n",
    "        p.grad = None\n",
    "\n",
    "    loss = F.cross_entropy(logits, Ytr[ix])\n",
    "    \n",
    "    \n",
    "    loss.backward()\n",
    "\n",
    "    lr = 0.1 if i < 100000 else 0.01\n",
    "    for p in parameters:\n",
    "        \n",
    "        p.data -= lr * p.grad\n",
    "            \n",
    "    if i % 10000 == 0: # print every once in a while\n",
    "        print(f'{i:7d}/{max_steps:7d}: {loss.item():.4f}')\n",
    "    \n",
    "    lossi.append(loss.log10().item())\n",
    "    #lri.append(i)"
   ]
  },
  {
   "cell_type": "code",
   "execution_count": null,
   "id": "b6a143d7-8df6-4cc1-a443-0477808e9dcc",
   "metadata": {},
   "outputs": [
    {
     "name": "stdout",
     "output_type": "stream",
     "text": [
      "train -> 2.1441\n",
      "val -> 2.1700\n",
      "test -> 2.1665\n"
     ]
    }
   ],
   "source": [
    "@torch.no_grad() # this decorator disables gradient tracking\n",
    "def split_loss(split):\n",
    "    x,y = {\n",
    "    'train': (Xtr, Ytr),\n",
    "    'val': (Xdev, Ydev),\n",
    "    'test': (Xte, Yte),\n",
    "  }[split]\n",
    "    \n",
    "    emb = C[x].view((x.shape[0], -1))\n",
    "    h = torch.tanh(emb @ W1 + b1)\n",
    "    logits = h @ W2 + b2\n",
    "    loss = F.cross_entropy(logits, y)\n",
    "\n",
    "    print(f\"{split} -> {loss.item():.4f}\")\n",
    "\n",
    "split_loss('train')\n",
    "split_loss('val')\n",
    "split_loss('test')"
   ]
  },
  {
   "cell_type": "markdown",
   "id": "d6877e55-1daf-48cd-af39-ee766b1dabf5",
   "metadata": {},
   "source": [
    "#### with normal distribution \n",
    "- train -> 2.1441\n",
    "- val -> 2.1700\n",
    "- test -> 2.1665\n",
    "### with scaled weight with gain\n",
    "- train -> 2.1315\n",
    "- val -> 2.1645\n",
    "- test -> 2.1623"
   ]
  },
  {
   "cell_type": "code",
   "execution_count": null,
   "id": "16836dc5-2699-4b3e-8e02-a80bd6bdbdd2",
   "metadata": {},
   "outputs": [
    {
     "data": {
      "text/plain": [
       "Text(0, 0.5, 'loss')"
      ]
     },
     "execution_count": null,
     "metadata": {},
     "output_type": "execute_result"
    },
    {
     "data": {
      "image/png": "[encoded data removed]",
      "text/plain": [
       "<Figure size 640x480 with 1 Axes>"
      ]
     },
     "metadata": {},
     "output_type": "display_data"
    }
   ],
   "source": [
    "plt.plot( lossi)\n",
    "plt.xlabel('lr')\n",
    "plt.ylabel('loss')"
   ]
  },
  {
   "cell_type": "code",
   "execution_count": null,
   "id": "5ecdbdaf-19da-4da0-8bfc-eac39e98ada7",
   "metadata": {},
   "outputs": [],
   "source": []
  }
 ],
 "metadata": {
  "kernelspec": {
   "display_name": "python3",
   "language": "python",
   "name": "python3"
  }
 },
 "nbformat": 4,
 "nbformat_minor": 5
}
