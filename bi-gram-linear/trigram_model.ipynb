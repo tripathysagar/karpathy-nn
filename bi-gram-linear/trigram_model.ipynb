{
 "cells": [
  {
   "cell_type": "code",
   "execution_count": 1,
   "id": "53962297-516b-4a10-a73a-e4dc40361f9b",
   "metadata": {},
   "outputs": [
    {
     "data": {
      "text/plain": [
       "['emma', 'olivia']"
      ]
     },
     "execution_count": 1,
     "metadata": {},
     "output_type": "execute_result"
    }
   ],
   "source": [
    "words = open('names.txt', 'r').read().splitlines()\n",
    "words[:2]"
   ]
  },
  {
   "cell_type": "code",
   "execution_count": 2,
   "id": "2cb259bc-1668-4d78-bff8-35eba56d743f",
   "metadata": {},
   "outputs": [
    {
     "name": "stdout",
     "output_type": "stream",
     "text": [
      ". . -> e\n",
      ". e -> m\n",
      "e m -> m\n",
      "m m -> a\n",
      "m a -> .\n"
     ]
    }
   ],
   "source": [
    "bi = {}\n",
    "for word in words[:1]:\n",
    "    w = ['.', '.'] + list(word) + ['.']\n",
    "\n",
    "    for ch1, ch2, ch3 in zip(w, w[1:], w[2:]):\n",
    "        print(f\"{ch1} {ch2} -> {ch3}\")\n"
   ]
  },
  {
   "cell_type": "code",
   "execution_count": 40,
   "id": "42ba566f-ae07-4b7d-8a09-18ae56f417f3",
   "metadata": {},
   "outputs": [
    {
     "data": {
      "text/plain": [
       "torch.int32"
      ]
     },
     "execution_count": 40,
     "metadata": {},
     "output_type": "execute_result"
    }
   ],
   "source": [
    "import torch\n",
    "N = torch.zeros((27, 27, 27), dtype=torch.int32)\n",
    "N.dtype"
   ]
  },
  {
   "cell_type": "markdown",
   "id": "66fd3dc1-b212-4d90-884e-409e5c83d392",
   "metadata": {},
   "source": [
    "## tigram counting method"
   ]
  },
  {
   "cell_type": "code",
   "execution_count": 4,
   "id": "a3b14d4c-a90a-4e54-a3b4-f6b0f552dbc3",
   "metadata": {},
   "outputs": [],
   "source": [
    "chars = ['.'] + sorted(set(''.join(words)))\n",
    "stoi = {k:i for i, k in enumerate(chars)}\n",
    "itos = {v:k for k, v in stoi.items()}"
   ]
  },
  {
   "cell_type": "code",
   "execution_count": 41,
   "id": "04561937-663d-48f6-8ade-f671d0e7b64d",
   "metadata": {},
   "outputs": [],
   "source": [
    "\n",
    "for word in words:\n",
    "    w = ['.', '.'] + list(word) + ['.']\n",
    "\n",
    "    for ch1, ch2, ch3 in zip(w, w[1:], w[2:]):\n",
    "        idx = (stoi[ch1], stoi[ch2], stoi[ch3])\n",
    "        N[idx] = N[idx] + 1\n",
    "\n"
   ]
  },
  {
   "cell_type": "code",
   "execution_count": 9,
   "id": "49ac3ebd-8666-49d9-a89b-b39c814b72ee",
   "metadata": {},
   "outputs": [],
   "source": [
    "## TODO plot the N matrix \n",
    "## AIM: to show (a, b) -> c in a 2d landscape"
   ]
  },
  {
   "cell_type": "code",
   "execution_count": 42,
   "id": "0aaa2962-4ab2-45ce-9ffc-b3d63460c4ce",
   "metadata": {},
   "outputs": [
    {
     "data": {
      "text/plain": [
       "torch.Size([27, 27, 27])"
      ]
     },
     "execution_count": 42,
     "metadata": {},
     "output_type": "execute_result"
    }
   ],
   "source": [
    "N = (N + 1).float()\n",
    "P = N / N.sum(2, keepdim=True) # use softmax over the third dim\n",
    "P.shape"
   ]
  },
  {
   "cell_type": "markdown",
   "id": "f94738db-8387-49d8-8e11-9c4e54ca42dd",
   "metadata": {},
   "source": [
    "### inference"
   ]
  },
  {
   "cell_type": "code",
   "execution_count": 48,
   "id": "0dcf30cd-afbe-4898-ad2a-2c75fe03d25f",
   "metadata": {},
   "outputs": [
    {
     "name": "stdout",
     "output_type": "stream",
     "text": [
      "in\n",
      "kron\n",
      "ni\n",
      "kelin\n",
      "hle\n"
     ]
    }
   ],
   "source": [
    "for i in range(5):\n",
    "    out = []\n",
    "    idx = 0,0\n",
    "    while True:\n",
    "        p = P[idx]\n",
    "        \n",
    "        new = torch.multinomial(p, num_samples=1, replacement=True).item()\n",
    "        \n",
    "        idx = idx[1],new\n",
    "        if new == 0:\n",
    "            break\n",
    "        out.append(itos[new])\n",
    "        \n",
    "    print(''.join(out))"
   ]
  },
  {
   "cell_type": "markdown",
   "id": "1ee87fe0-6c25-476d-975a-96bd4bbd567e",
   "metadata": {},
   "source": [
    "### loss"
   ]
  },
  {
   "cell_type": "code",
   "execution_count": 50,
   "id": "16c695cd-a1ae-4952-a9b4-34b73961a358",
   "metadata": {},
   "outputs": [
    {
     "name": "stdout",
     "output_type": "stream",
     "text": [
      "nll=tensor(2.0956)\n"
     ]
    }
   ],
   "source": [
    "n = 0 \n",
    "loss = 0\n",
    "for word in words[:1]:\n",
    "    w = ['.', '.'] + list(word) + ['.']\n",
    "\n",
    "    for ch1, ch2, ch3 in zip(w, w[1:], w[2:]):\n",
    "        idx = (stoi[ch1], stoi[ch2], stoi[ch3])\n",
    "        loss += torch.log(P[idx])\n",
    "        n += 1\n",
    "\n",
    "nll = -loss/n\n",
    "print(f\"{nll=}\")"
   ]
  },
  {
   "cell_type": "markdown",
   "id": "128a476e-5d70-43a4-a0cd-ba70caf023a1",
   "metadata": {},
   "source": [
    "##  trigram linear"
   ]
  },
  {
   "cell_type": "code",
   "execution_count": 53,
   "id": "f75cdd7d-bffd-42b4-a694-682068d7f3cb",
   "metadata": {},
   "outputs": [],
   "source": [
    "import torch.nn.functional as F"
   ]
  },
  {
   "cell_type": "code",
   "execution_count": 113,
   "id": "4503a3ed-2708-47b2-9e65-501d6e3de011",
   "metadata": {},
   "outputs": [],
   "source": [
    "X1, X2, Y = [], [], []\n",
    "for word in words:\n",
    "    w = ['.', '.'] + list(word) + ['.']\n",
    "\n",
    "    for ch1, ch2, ch3 in zip(w, w[1:], w[2:]):\n",
    "        X1.append(stoi[ch1])\n",
    "        X2.append(stoi[ch2]) \n",
    "        Y.append(stoi[ch3])\n",
    "      \n",
    "assert len(X1) == len(X2) == len(Y)\n"
   ]
  },
  {
   "cell_type": "code",
   "execution_count": 108,
   "id": "bf33e8fc-c004-4b49-8246-62354bdda75b",
   "metadata": {},
   "outputs": [],
   "source": [
    "x1_enc = F.one_hot(torch.tensor(X1), num_classes=27).float()\n",
    "x2_enc = F.one_hot(torch.tensor(X2), num_classes=27).float()\n",
    "\n",
    "assert x1_enc.shape  == x2_enc.shape"
   ]
  },
  {
   "cell_type": "code",
   "execution_count": 109,
   "id": "15ecc863-99c9-400f-a9d6-c4920743f3e4",
   "metadata": {},
   "outputs": [
    {
     "data": {
      "text/plain": [
       "tensor([[1., 0., 0., 0., 0., 0., 0., 0., 0., 0., 0., 0., 0., 0., 0., 0., 0., 0.,\n",
       "         0., 0., 0., 0., 0., 0., 0., 0., 0.],\n",
       "        [1., 0., 0., 0., 0., 0., 0., 0., 0., 0., 0., 0., 0., 0., 0., 0., 0., 0.,\n",
       "         0., 0., 0., 0., 0., 0., 0., 0., 0.],\n",
       "        [0., 0., 0., 0., 0., 1., 0., 0., 0., 0., 0., 0., 0., 0., 0., 0., 0., 0.,\n",
       "         0., 0., 0., 0., 0., 0., 0., 0., 0.]])"
      ]
     },
     "execution_count": 109,
     "metadata": {},
     "output_type": "execute_result"
    }
   ],
   "source": [
    "x1_enc[:3]"
   ]
  },
  {
   "cell_type": "code",
   "execution_count": 110,
   "id": "fecdfb21-536f-457e-a6b5-62616a625fca",
   "metadata": {},
   "outputs": [
    {
     "data": {
      "text/plain": [
       "[0, 0, 5]"
      ]
     },
     "execution_count": 110,
     "metadata": {},
     "output_type": "execute_result"
    }
   ],
   "source": [
    "X1[:3]"
   ]
  },
  {
   "cell_type": "code",
   "execution_count": 115,
   "id": "e1499e01-f68e-4f60-babc-3c42aeb91df3",
   "metadata": {},
   "outputs": [],
   "source": [
    "nelem = x1_enc.shape[0]"
   ]
  },
  {
   "cell_type": "code",
   "execution_count": 138,
   "id": "68a04bad-dfb2-43fc-b6da-4e5f5a1abbb2",
   "metadata": {},
   "outputs": [],
   "source": [
    "W1 = torch.randn((27,27), requires_grad=True)\n",
    "W2 = torch.randn((27,27), requires_grad=True)\n",
    "assert W1.grad == W2.grad == None"
   ]
  },
  {
   "cell_type": "code",
   "execution_count": 118,
   "id": "4637ed97-24d7-4d4e-b069-f749705203a7",
   "metadata": {},
   "outputs": [
    {
     "data": {
      "text/plain": [
       "tensor([[3.6539, 1.7893, 1.4137,  ..., 3.9771, 1.9272, 2.7941],\n",
       "        [4.9465, 1.4733, 1.9900,  ..., 2.6424, 6.6975, 2.7044],\n",
       "        [2.3388, 7.7381, 2.4071,  ..., 2.2920, 3.7197, 1.0585],\n",
       "        ...,\n",
       "        [1.7059, 1.5831, 1.2509,  ..., 0.7952, 1.7543, 1.4137],\n",
       "        [4.6943, 3.6816, 2.8614,  ..., 4.1815, 2.7621, 2.1636],\n",
       "        [1.2592, 1.2549, 0.6223,  ..., 0.3890, 3.9024, 1.4291]],\n",
       "       grad_fn=<AddBackward0>)"
      ]
     },
     "execution_count": 118,
     "metadata": {},
     "output_type": "execute_result"
    }
   ],
   "source": [
    "count = torch.exp(x1_enc @ W1) + torch.exp(x2_enc @ W2)\n",
    "count"
   ]
  },
  {
   "cell_type": "code",
   "execution_count": 120,
   "id": "08a391dd-d9b6-417f-af72-074c68d7db54",
   "metadata": {},
   "outputs": [],
   "source": [
    "prob = count / count.sum(1, keepdims=True)"
   ]
  },
  {
   "cell_type": "code",
   "execution_count": 121,
   "id": "b723df66-925d-4cfd-a4ba-180886af7f68",
   "metadata": {},
   "outputs": [
    {
     "data": {
      "text/plain": [
       "tensor(3.5810, grad_fn=<AddBackward0>)"
      ]
     },
     "execution_count": 121,
     "metadata": {},
     "output_type": "execute_result"
    }
   ],
   "source": [
    "loss = -prob[torch.arange(nelem), Y].log().mean() + 0.01 * (W1**2 + W2**2).mean()\n",
    "loss"
   ]
  },
  {
   "cell_type": "code",
   "execution_count": 139,
   "id": "d1d0d136-161b-4b55-80e5-c19e93c11bfe",
   "metadata": {},
   "outputs": [
    {
     "name": "stdout",
     "output_type": "stream",
     "text": [
      "3.5741629600524902\n",
      "2.4722166061401367\n",
      "2.448169469833374\n",
      "2.441180944442749\n",
      "2.4372003078460693\n",
      "2.4344844818115234\n",
      "2.433318614959717\n",
      "2.4328253269195557\n",
      "2.432562828063965\n",
      "2.4324092864990234\n"
     ]
    }
   ],
   "source": [
    "for k in range(1000):\n",
    "    counts = torch.exp(x1_enc @ W1) + torch.exp(x2_enc @ W2)\n",
    "    prob = counts / counts.sum(1, keepdim=True)\n",
    "\n",
    "    loss = -prob[torch.arange(nelem), Y].log().mean() + 0.01 * (W1**2).mean() + 0.01 * (W2**2).mean()\n",
    "\n",
    "    \n",
    "    if  k%100 == 0:\n",
    "        print(loss.item())\n",
    "    W1.grad, W2.grad = None, None\n",
    "    \n",
    "    loss.backward()\n",
    "\n",
    "    W1.data += -50*2 * W1.grad\n",
    "    W2.data += -50*2 * W2.grad\n",
    "    "
   ]
  },
  {
   "cell_type": "code",
   "execution_count": 159,
   "id": "a3e2face-b42c-432b-b63f-16b13ec3d160",
   "metadata": {},
   "outputs": [
    {
     "name": "stdout",
     "output_type": "stream",
     "text": [
      "lenie\n",
      "tin\n",
      "an\n",
      "ah\n",
      "kahalo\n"
     ]
    }
   ],
   "source": [
    "for i in range(5):\n",
    "    out = []\n",
    "    idx = 0,0\n",
    "    while True:\n",
    "        X1_enc = F.one_hot(torch.tensor([idx[0]]), num_classes=27).float()\n",
    "        X2_enc = F.one_hot(torch.tensor([idx[1]]), num_classes=27).float()\n",
    "\n",
    "        counts = torch.exp(X1_enc @ W1) + torch.exp(X2_enc @ W2)\n",
    "\n",
    "        prob = counts / counts.sum(1, keepdim=True)\n",
    "        \n",
    "        new = torch.multinomial(prob, num_samples=1, replacement=True).item()\n",
    "        \n",
    "        idx = idx[1],new\n",
    "        if new == 0:\n",
    "            break\n",
    "        out.append(itos[new])\n",
    "        \n",
    "    print(''.join(out))"
   ]
  },
  {
   "cell_type": "code",
   "execution_count": null,
   "id": "7c368513-0e02-465d-a25e-24a0ecbcd6d5",
   "metadata": {},
   "outputs": [],
   "source": []
  }
 ],
 "metadata": {
  "kernelspec": {
   "display_name": "Python 3 (ipykernel)",
   "language": "python",
   "name": "python3"
  },
  "language_info": {
   "codemirror_mode": {
    "name": "ipython",
    "version": 3
   },
   "file_extension": ".py",
   "mimetype": "text/x-python",
   "name": "python",
   "nbconvert_exporter": "python",
   "pygments_lexer": "ipython3",
   "version": "3.10.14"
  }
 },
 "nbformat": 4,
 "nbformat_minor": 5
}
