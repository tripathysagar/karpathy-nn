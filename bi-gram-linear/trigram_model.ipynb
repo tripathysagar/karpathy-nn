{
 "cells": [
  {
   "cell_type": "code",
   "execution_count": null,
   "id": "53962297-516b-4a10-a73a-e4dc40361f9b",
   "metadata": {},
   "outputs": [
    {
     "data": {
      "text/plain": [
       "['emma', 'olivia']"
      ]
     },
     "execution_count": null,
     "metadata": {},
     "output_type": "execute_result"
    }
   ],
   "source": [
    "words = open('../names.txt', 'r').read().splitlines()\n",
    "words[:2]"
   ]
  },
  {
   "cell_type": "code",
   "execution_count": null,
   "id": "2cb259bc-1668-4d78-bff8-35eba56d743f",
   "metadata": {},
   "outputs": [
    {
     "name": "stdout",
     "output_type": "stream",
     "text": [
      ". . -> e\n",
      ". e -> m\n",
      "e m -> m\n",
      "m m -> a\n",
      "m a -> .\n"
     ]
    }
   ],
   "source": [
    "bi = {}\n",
    "for word in words[:1]:\n",
    "    w = ['.', '.'] + list(word) + ['.']\n",
    "\n",
    "    for ch1, ch2, ch3 in zip(w, w[1:], w[2:]):\n",
    "        print(f\"{ch1} {ch2} -> {ch3}\")\n"
   ]
  },
  {
   "cell_type": "code",
   "execution_count": null,
   "id": "42ba566f-ae07-4b7d-8a09-18ae56f417f3",
   "metadata": {},
   "outputs": [
    {
     "data": {
      "text/plain": [
       "torch.int32"
      ]
     },
     "execution_count": null,
     "metadata": {},
     "output_type": "execute_result"
    }
   ],
   "source": [
    "import torch\n",
    "N = torch.zeros((27, 27, 27), dtype=torch.int32)\n",
    "N.dtype"
   ]
  },
  {
   "cell_type": "markdown",
   "id": "66fd3dc1-b212-4d90-884e-409e5c83d392",
   "metadata": {},
   "source": [
    "## tigram counting method"
   ]
  },
  {
   "cell_type": "code",
   "execution_count": null,
   "id": "a3b14d4c-a90a-4e54-a3b4-f6b0f552dbc3",
   "metadata": {},
   "outputs": [],
   "source": [
    "chars = ['.'] + sorted(set(''.join(words)))\n",
    "stoi = {k:i for i, k in enumerate(chars)}\n",
    "itos = {v:k for k, v in stoi.items()}"
   ]
  },
  {
   "cell_type": "code",
   "execution_count": null,
   "id": "04561937-663d-48f6-8ade-f671d0e7b64d",
   "metadata": {},
   "outputs": [],
   "source": [
    "\n",
    "for word in words:\n",
    "    w = ['.', '.'] + list(word) + ['.']\n",
    "\n",
    "    for ch1, ch2, ch3 in zip(w, w[1:], w[2:]):\n",
    "        idx = (stoi[ch1], stoi[ch2], stoi[ch3])\n",
    "        N[idx] = N[idx] + 1\n",
    "\n"
   ]
  },
  {
   "cell_type": "code",
   "execution_count": null,
   "id": "49ac3ebd-8666-49d9-a89b-b39c814b72ee",
   "metadata": {},
   "outputs": [],
   "source": [
    "## TODO plot the N matrix \n",
    "## AIM: to show (a, b) -> c in a 2d landscape"
   ]
  },
  {
   "cell_type": "code",
   "execution_count": null,
   "id": "0aaa2962-4ab2-45ce-9ffc-b3d63460c4ce",
   "metadata": {},
   "outputs": [
    {
     "data": {
      "text/plain": [
       "torch.Size([27, 27, 27])"
      ]
     },
     "execution_count": null,
     "metadata": {},
     "output_type": "execute_result"
    }
   ],
   "source": [
    "N = (N + 1).float()\n",
    "P = N / N.sum(2, keepdim=True) # use softmax over the third dim\n",
    "P.shape"
   ]
  },
  {
   "cell_type": "markdown",
   "id": "f94738db-8387-49d8-8e11-9c4e54ca42dd",
   "metadata": {},
   "source": [
    "### inference"
   ]
  },
  {
   "cell_type": "code",
   "execution_count": null,
   "id": "0dcf30cd-afbe-4898-ad2a-2c75fe03d25f",
   "metadata": {},
   "outputs": [
    {
     "name": "stdout",
     "output_type": "stream",
     "text": [
      "cai\n",
      "paundenya\n",
      "esyn\n",
      "ada\n",
      "nourynn\n"
     ]
    }
   ],
   "source": [
    "for i in range(5):\n",
    "    out = []\n",
    "    idx = 0,0\n",
    "    while True:\n",
    "        p = P[idx]\n",
    "        \n",
    "        new = torch.multinomial(p, num_samples=1, replacement=True).item()\n",
    "        \n",
    "        idx = idx[1],new\n",
    "        if new == 0:\n",
    "            break\n",
    "        out.append(itos[new])\n",
    "        \n",
    "    print(''.join(out))"
   ]
  },
  {
   "cell_type": "markdown",
   "id": "1ee87fe0-6c25-476d-975a-96bd4bbd567e",
   "metadata": {},
   "source": [
    "### loss"
   ]
  },
  {
   "cell_type": "code",
   "execution_count": null,
   "id": "16c695cd-a1ae-4952-a9b4-34b73961a358",
   "metadata": {},
   "outputs": [
    {
     "name": "stdout",
     "output_type": "stream",
     "text": [
      "nll=tensor(2.0956)\n"
     ]
    }
   ],
   "source": [
    "n = 0 \n",
    "loss = 0\n",
    "for word in words[:1]:\n",
    "    w = ['.', '.'] + list(word) + ['.']\n",
    "\n",
    "    for ch1, ch2, ch3 in zip(w, w[1:], w[2:]):\n",
    "        idx = (stoi[ch1], stoi[ch2], stoi[ch3])\n",
    "        loss += torch.log(P[idx])\n",
    "        n += 1\n",
    "\n",
    "nll = -loss/n\n",
    "print(f\"{nll=}\")"
   ]
  },
  {
   "cell_type": "markdown",
   "id": "128a476e-5d70-43a4-a0cd-ba70caf023a1",
   "metadata": {},
   "source": [
    "##  trigram linear"
   ]
  },
  {
   "cell_type": "code",
   "execution_count": null,
   "id": "f75cdd7d-bffd-42b4-a694-682068d7f3cb",
   "metadata": {},
   "outputs": [],
   "source": [
    "import torch.nn.functional as F"
   ]
  },
  {
   "cell_type": "code",
   "execution_count": null,
   "id": "f5e9e723-c79a-40a8-95d5-224c0bf7ea9b",
   "metadata": {},
   "outputs": [
    {
     "name": "stdout",
     "output_type": "stream",
     "text": [
      ". . e\n",
      ". e m\n",
      "e m m\n",
      "m m a\n",
      "m a .\n",
      ". . o\n",
      ". o l\n",
      "o l i\n",
      "l i v\n",
      "i v i\n",
      "v i a\n",
      "i a .\n",
      ". . a\n",
      ". a v\n",
      "a v a\n",
      "v a .\n"
     ]
    }
   ],
   "source": [
    "for word in words[:3]:\n",
    "    w = ['.', '.'] + list(word) + ['.']\n",
    "\n",
    "    for ch1, ch2, ch3 in zip(w, w[1:], w[2:]):\n",
    "        print(ch1, ch2, ch3)\n",
    "      "
   ]
  },
  {
   "cell_type": "code",
   "execution_count": null,
   "id": "4503a3ed-2708-47b2-9e65-501d6e3de011",
   "metadata": {},
   "outputs": [],
   "source": [
    "X1, X2, Y = [], [], []\n",
    "for word in words:\n",
    "    w = ['.', '.'] + list(word) + ['.']\n",
    "\n",
    "    for ch1, ch2, ch3 in zip(w, w[1:], w[2:]):\n",
    "        X1.append(stoi[ch1])\n",
    "        X2.append(stoi[ch2]) \n",
    "        Y.append(stoi[ch3])\n",
    "      \n",
    "assert len(X1) == len(X2) == len(Y)\n"
   ]
  },
  {
   "cell_type": "code",
   "execution_count": null,
   "id": "edbd8061-9d33-40f6-9799-e11a3e492dbe",
   "metadata": {},
   "outputs": [],
   "source": [
    "X1 = torch.tensor(X1)\n",
    "X2 = torch.tensor(X2)\n",
    "Y = torch.tensor(Y)"
   ]
  },
  {
   "cell_type": "code",
   "execution_count": null,
   "id": "bf33e8fc-c004-4b49-8246-62354bdda75b",
   "metadata": {},
   "outputs": [],
   "source": [
    "x1_enc = F.one_hot(X1, num_classes=27).float()\n",
    "x2_enc = F.one_hot(X2, num_classes=27).float()\n",
    "\n",
    "assert x1_enc.shape  == x2_enc.shape"
   ]
  },
  {
   "cell_type": "code",
   "execution_count": null,
   "id": "15ecc863-99c9-400f-a9d6-c4920743f3e4",
   "metadata": {},
   "outputs": [
    {
     "data": {
      "text/plain": [
       "tensor([[1., 0., 0., 0., 0., 0., 0., 0., 0., 0., 0., 0., 0., 0., 0., 0., 0., 0.,\n",
       "         0., 0., 0., 0., 0., 0., 0., 0., 0.],\n",
       "        [1., 0., 0., 0., 0., 0., 0., 0., 0., 0., 0., 0., 0., 0., 0., 0., 0., 0.,\n",
       "         0., 0., 0., 0., 0., 0., 0., 0., 0.],\n",
       "        [0., 0., 0., 0., 0., 1., 0., 0., 0., 0., 0., 0., 0., 0., 0., 0., 0., 0.,\n",
       "         0., 0., 0., 0., 0., 0., 0., 0., 0.]])"
      ]
     },
     "execution_count": null,
     "metadata": {},
     "output_type": "execute_result"
    }
   ],
   "source": [
    "x1_enc[:3]"
   ]
  },
  {
   "cell_type": "code",
   "execution_count": null,
   "id": "fecdfb21-536f-457e-a6b5-62616a625fca",
   "metadata": {},
   "outputs": [
    {
     "data": {
      "text/plain": [
       "[0, 0, 5]"
      ]
     },
     "execution_count": null,
     "metadata": {},
     "output_type": "execute_result"
    }
   ],
   "source": [
    "X1[:3]"
   ]
  },
  {
   "cell_type": "code",
   "execution_count": null,
   "id": "e1499e01-f68e-4f60-babc-3c42aeb91df3",
   "metadata": {},
   "outputs": [],
   "source": [
    "nelem = x1_enc.shape[0]"
   ]
  },
  {
   "cell_type": "code",
   "execution_count": null,
   "id": "68a04bad-dfb2-43fc-b6da-4e5f5a1abbb2",
   "metadata": {},
   "outputs": [],
   "source": [
    "W1 = torch.randn((27,27), requires_grad=True)\n",
    "W2 = torch.randn((27,27), requires_grad=True)\n",
    "assert W1.grad == W2.grad == None"
   ]
  },
  {
   "cell_type": "code",
   "execution_count": null,
   "id": "4637ed97-24d7-4d4e-b069-f749705203a7",
   "metadata": {},
   "outputs": [
    {
     "data": {
      "text/plain": [
       "tensor([[ 5.5603,  3.7105,  1.5655,  ...,  1.6482,  1.8491,  2.1499],\n",
       "        [ 2.0274,  6.5663,  4.5169,  ...,  2.8357,  5.2976,  2.8400],\n",
       "        [ 1.6525,  2.2142,  1.9421,  ...,  2.9356,  7.5378,  3.2369],\n",
       "        ...,\n",
       "        [12.2529,  1.7346,  8.4385,  ...,  3.3317,  0.7511,  0.6818],\n",
       "        [ 0.7025,  0.9824,  1.4958,  ...,  5.6347,  1.2429,  0.7609],\n",
       "        [12.0355,  4.9146,  8.5180,  ...,  4.4695,  2.6402,  2.7897]],\n",
       "       grad_fn=<AddBackward0>)"
      ]
     },
     "execution_count": null,
     "metadata": {},
     "output_type": "execute_result"
    }
   ],
   "source": [
    "count = torch.exp(x1_enc @ W1) + torch.exp(x2_enc @ W2)\n",
    "count"
   ]
  },
  {
   "cell_type": "code",
   "execution_count": null,
   "id": "08a391dd-d9b6-417f-af72-074c68d7db54",
   "metadata": {},
   "outputs": [],
   "source": [
    "prob = count / count.sum(1, keepdims=True)"
   ]
  },
  {
   "cell_type": "code",
   "execution_count": null,
   "id": "b723df66-925d-4cfd-a4ba-180886af7f68",
   "metadata": {},
   "outputs": [
    {
     "data": {
      "text/plain": [
       "tensor(3.4874, grad_fn=<AddBackward0>)"
      ]
     },
     "execution_count": null,
     "metadata": {},
     "output_type": "execute_result"
    }
   ],
   "source": [
    "loss = -prob[torch.arange(nelem), Y].log().mean() + 0.01 * (W1**2 + W2**2).mean()\n",
    "loss"
   ]
  },
  {
   "cell_type": "code",
   "execution_count": null,
   "id": "d1d0d136-161b-4b55-80e5-c19e93c11bfe",
   "metadata": {},
   "outputs": [
    {
     "name": "stdout",
     "output_type": "stream",
     "text": [
      "3.4874086380004883\n",
      "2.4660487174987793\n",
      "2.44608736038208\n",
      "2.4385883808135986\n",
      "2.4353103637695312\n",
      "2.433823347091675\n",
      "2.432694911956787\n",
      "2.4324140548706055\n",
      "2.432297706604004\n",
      "2.4322376251220703\n"
     ]
    }
   ],
   "source": [
    "for k in range(1000):\n",
    "    counts = torch.exp(x1_enc @ W1) + torch.exp(x2_enc @ W2)\n",
    "    prob = counts / counts.sum(1, keepdim=True)\n",
    "\n",
    "    loss = -prob[torch.arange(nelem), Y].log().mean() + 0.01 * (W1**2).mean() + 0.01 * (W2**2).mean()\n",
    "\n",
    "    \n",
    "    if  k%100 == 0:\n",
    "        print(loss.item())\n",
    "    W1.grad, W2.grad = None, None\n",
    "    \n",
    "    loss.backward()\n",
    "\n",
    "    W1.data += -50*2 * W1.grad\n",
    "    W2.data += -50*2 * W2.grad\n",
    "    "
   ]
  },
  {
   "cell_type": "code",
   "execution_count": null,
   "id": "a3e2face-b42c-432b-b63f-16b13ec3d160",
   "metadata": {},
   "outputs": [
    {
     "name": "stdout",
     "output_type": "stream",
     "text": [
      "domzy\n",
      "ttylivino\n",
      "varkana\n",
      "pein\n",
      "ahlay\n"
     ]
    }
   ],
   "source": [
    "for i in range(5):\n",
    "    out = []\n",
    "    idx = 0,0\n",
    "    while True:\n",
    "        X1_enc = F.one_hot(torch.tensor([idx[0]]), num_classes=27).float()\n",
    "        X2_enc = F.one_hot(torch.tensor([idx[1]]), num_classes=27).float()\n",
    "\n",
    "        counts = torch.exp(X1_enc @ W1) + torch.exp(X2_enc @ W2)\n",
    "\n",
    "        prob = counts / counts.sum(1, keepdim=True)\n",
    "        \n",
    "        new = torch.multinomial(prob, num_samples=1, replacement=True).item()\n",
    "        \n",
    "        idx = idx[1],new\n",
    "        if new == 0:\n",
    "            break\n",
    "        out.append(itos[new])\n",
    "        \n",
    "    print(''.join(out))"
   ]
  },
  {
   "cell_type": "markdown",
   "id": "0f79095a-814f-41fc-8970-e6bf0342c00e",
   "metadata": {},
   "source": [
    "## with data split, with pytorch functions"
   ]
  },
  {
   "cell_type": "code",
   "execution_count": null,
   "id": "a2336ed3-4d30-4fae-b28a-22932a9528b8",
   "metadata": {},
   "outputs": [
    {
     "data": {
      "text/plain": [
       "[182516, 205331]"
      ]
     },
     "execution_count": null,
     "metadata": {},
     "output_type": "execute_result"
    }
   ],
   "source": [
    "idxs = torch.randperm(nelem)\n",
    "rand_idx = [int(nelem*.8), int(nelem*.9)]\n",
    "rand_idx"
   ]
  },
  {
   "cell_type": "code",
   "execution_count": null,
   "id": "aade911b-c16d-4006-8bde-f9d9d7c1e15c",
   "metadata": {},
   "outputs": [],
   "source": [
    "trn_idx, tst_idx, vld_idx = idxs[:rand_idx[0]], idxs[rand_idx[0]:rand_idx[1]], idxs[rand_idx[1]:]"
   ]
  },
  {
   "cell_type": "code",
   "execution_count": null,
   "id": "0f29291f-846e-4ce5-be50-b52f3108c1e9",
   "metadata": {},
   "outputs": [],
   "source": [
    "X1_trn, X2_trn, Y_trn = X1[trn_idx], X2[trn_idx], Y[trn_idx]\n",
    "X1_tst, X2_tst, Y_tst = X1[tst_idx], X2[tst_idx], Y[tst_idx]\n",
    "X1_vld, X2_vld, Y_vld = X1[vld_idx], X2[vld_idx], Y[vld_idx]\n",
    "assert X1_trn.nelement()+ X1_tst.nelement() + X1_vld.nelement() == nelem"
   ]
  },
  {
   "cell_type": "code",
   "execution_count": null,
   "id": "74b4bb12-cdcc-43e2-88fe-7246ca83547e",
   "metadata": {},
   "outputs": [
    {
     "data": {
      "text/plain": [
       "(tensor([ 0,  1, 18,  0, 21, 12, 15,  0, 14,  1,  3,  0,  9,  0, 13,  0,  1, 21,\n",
       "         14,  0]),\n",
       " tensor([ 0,  8,  9,  0,  3,  5, 19, 20,  7, 14,  8,  1,  5,  0,  1, 12, 26, 12,\n",
       "          9,  2]))"
      ]
     },
     "execution_count": null,
     "metadata": {},
     "output_type": "execute_result"
    }
   ],
   "source": [
    "X1_trn[:20], X2_trn[:20]"
   ]
  },
  {
   "cell_type": "code",
   "execution_count": null,
   "id": "9d2d22d7-3a3d-44b4-806e-bc4d2de9c9f1",
   "metadata": {},
   "outputs": [
    {
     "data": {
      "text/plain": [
       "tensor(33885)"
      ]
     },
     "execution_count": null,
     "metadata": {},
     "output_type": "execute_result"
    }
   ],
   "source": [
    "(Y == 1).sum()"
   ]
  },
  {
   "cell_type": "code",
   "execution_count": null,
   "id": "cfc528e2-ebec-4051-8eb2-b961141d627a",
   "metadata": {},
   "outputs": [],
   "source": [
    "W1 = torch.randn((27,27), requires_grad=True)\n",
    "W2 = torch.randn((27,27), requires_grad=True)\n",
    "assert W1.grad == W2.grad == None"
   ]
  },
  {
   "cell_type": "code",
   "execution_count": null,
   "id": "b720c693-92df-47a7-9c73-be50587c77f5",
   "metadata": {},
   "outputs": [],
   "source": [
    "def forward_pass(X1, X2):\n",
    "    X_enc = W1[X1] + W2[X2] \n",
    "    counts = torch.exp(X_enc)\n",
    "    prob = counts / counts.sum(1, keepdim=True)\n",
    "    return prob"
   ]
  },
  {
   "cell_type": "code",
   "execution_count": null,
   "id": "6679697c-8309-4916-b7e4-912d33c20ecb",
   "metadata": {},
   "outputs": [],
   "source": [
    "pred = forward_pass(X1_trn, X2_trn)"
   ]
  },
  {
   "cell_type": "code",
   "execution_count": null,
   "id": "785b9a4b-ac61-40d3-8648-317e1c217789",
   "metadata": {},
   "outputs": [],
   "source": [
    "assert pred.shape[0] == X1_trn.shape[0]\n",
    "assert pred.shape[1] == 27"
   ]
  },
  {
   "cell_type": "code",
   "execution_count": null,
   "id": "9d86e6e8-1a57-4faf-bcd8-5df74eef98fe",
   "metadata": {},
   "outputs": [],
   "source": [
    "def loss(pred, Y):\n",
    "    return F.cross_entropy(pred, Y)"
   ]
  },
  {
   "cell_type": "code",
   "execution_count": null,
   "id": "2f1fe9fd-2fe0-4c4a-bc8c-d7b382a2954c",
   "metadata": {},
   "outputs": [
    {
     "data": {
      "text/plain": [
       "tensor(3.2970, grad_fn=<NllLossBackward0>)"
      ]
     },
     "execution_count": null,
     "metadata": {},
     "output_type": "execute_result"
    }
   ],
   "source": [
    "l = loss(pred, Y_trn)\n",
    "l"
   ]
  },
  {
   "cell_type": "code",
   "execution_count": null,
   "id": "94cc25d4-f0ee-4fe5-8fbd-cd454af9e26d",
   "metadata": {},
   "outputs": [
    {
     "name": "stdout",
     "output_type": "stream",
     "text": [
      "0 -> train loss:3.3228  valid_loss:3.2972\n",
      "200 -> train loss:3.1316  valid_loss:3.1185\n",
      "400 -> train loss:3.1173  valid_loss:3.1068\n",
      "600 -> train loss:3.1139  valid_loss:3.1026\n",
      "800 -> train loss:3.1122  valid_loss:3.0999\n",
      "1000 -> train loss:3.1098  valid_loss:3.0968\n",
      "1200 -> train loss:3.1083  valid_loss:3.0946\n",
      "1400 -> train loss:3.1078  valid_loss:3.0939\n",
      "1600 -> train loss:3.1077  valid_loss:3.0937\n",
      "1800 -> train loss:3.1075  valid_loss:3.0935\n",
      "2000 -> train loss:3.1075  valid_loss:3.0935\n",
      "2200 -> train loss:3.1075  valid_loss:3.0935\n",
      "2400 -> train loss:3.1075  valid_loss:3.0935\n",
      "2600 -> train loss:3.1075  valid_loss:3.0935\n",
      "2800 -> train loss:3.1075  valid_loss:3.0935\n",
      "3000 -> train loss:3.1075  valid_loss:3.0935\n",
      "3200 -> train loss:3.1075  valid_loss:3.0935\n",
      "3400 -> train loss:3.1075  valid_loss:3.0935\n",
      "3600 -> train loss:3.1075  valid_loss:3.0935\n",
      "3800 -> train loss:3.1075  valid_loss:3.0935\n",
      "4000 -> train loss:3.1075  valid_loss:3.0935\n",
      "4200 -> train loss:3.1075  valid_loss:3.0935\n",
      "4400 -> train loss:3.1075  valid_loss:3.0935\n",
      "4600 -> train loss:3.1075  valid_loss:3.0935\n",
      "4800 -> train loss:3.1075  valid_loss:3.0935\n",
      "test loss:3.0905  accuracy:0.2759\n"
     ]
    }
   ],
   "source": [
    "W1 = torch.randn((27,27), requires_grad=True)\n",
    "W2 = torch.randn((27,27), requires_grad=True)\n",
    "assert W1.grad == W2.grad == None\n",
    "lr = -50*2\n",
    "for i in range(5000):\n",
    "    pred_trn = forward_pass(X1_trn, X2_trn)\n",
    "    #print(pred.shape)\n",
    "    loss_trn = loss(pred_trn, Y_trn) + 0.01125 * (W1**2 + W2**2).mean()\n",
    "\n",
    "\n",
    "    loss_trn.backward()\n",
    "\n",
    "    W1.data += lr * W1.grad\n",
    "    W2.data += lr * W2.grad\n",
    "    \n",
    "    W1.grad, W2.grad = None, None\n",
    "\n",
    "    pred_vld = forward_pass(X1_vld, X2_vld)\n",
    "    loss_vld = loss(pred_vld, Y_vld)\n",
    "\n",
    "    if i % 200 == 0:\n",
    "        print(f\"{i} -> train loss:{loss_trn.item():.4f}  valid_loss:{loss_vld.item():.4f}\")\n",
    "        \n",
    "pred_tst = forward_pass(X1_tst, X2_tst)\n",
    "loss_tst = loss(pred_tst, Y_tst)\n",
    "accu = (pred_tst.argmax(1) == Y_tst).float().mean()\n",
    "print(f\"test loss:{loss_tst.item():.4f}  accuracy:{accu.item():.4f}\")"
   ]
  },
  {
   "cell_type": "code",
   "execution_count": null,
   "id": "f6abe0ff-d693-4981-98c5-a69b4a84d6a8",
   "metadata": {},
   "outputs": [],
   "source": [
    "result = \"\"\n",
    "for i in range(5000):\n",
    "    out = \"\"\n",
    "    idx = 0,0\n",
    "    while True:\n",
    "        X1_enc = torch.tensor([idx[0]])\n",
    "        X2_enc = torch.tensor([idx[1]])\n",
    "\n",
    "        prob = forward_pass(X1_enc, X2_enc)\n",
    "        \n",
    "        new = torch.multinomial(prob, num_samples=1, replacement=True).item()\n",
    "        \n",
    "        idx = idx[1],new\n",
    "        if new == 0:\n",
    "            break\n",
    "        out += itos[new]\n",
    "    #print(out)\n",
    "    result = result+ out\n",
    "    #print(''.join(out))"
   ]
  },
  {
   "cell_type": "code",
   "execution_count": null,
   "id": "20e0eb58-0616-4827-8b8c-6ad32e2c11ad",
   "metadata": {},
   "outputs": [
    {
     "data": {
      "text/plain": [
       "Counter({'a': 6451,\n",
       "         'n': 2898,\n",
       "         'i': 1855,\n",
       "         'r': 1816,\n",
       "         'e': 206,\n",
       "         'l': 205,\n",
       "         's': 27,\n",
       "         'x': 20,\n",
       "         'y': 18,\n",
       "         'z': 17,\n",
       "         'o': 15,\n",
       "         'f': 13,\n",
       "         'm': 13,\n",
       "         'u': 13,\n",
       "         'd': 12,\n",
       "         'b': 11,\n",
       "         'v': 11,\n",
       "         'q': 11,\n",
       "         'w': 10,\n",
       "         'c': 10,\n",
       "         'k': 9,\n",
       "         'h': 9,\n",
       "         'g': 9,\n",
       "         'p': 9,\n",
       "         't': 8,\n",
       "         'j': 8})"
      ]
     },
     "execution_count": null,
     "metadata": {},
     "output_type": "execute_result"
    }
   ],
   "source": [
    "result = list(''.join(result))\n",
    "from collections import Counter\n",
    "counter = Counter(result)\n",
    "counter"
   ]
  },
  {
   "cell_type": "code",
   "execution_count": null,
   "id": "fcb92d3a-cbd0-49a1-b902-899e9919868d",
   "metadata": {},
   "outputs": [],
   "source": [
    "n = sum(counter.values())\n",
    "op_freq = [counter[itos[i]] / n for i in range(27)]"
   ]
  },
  {
   "cell_type": "code",
   "execution_count": null,
   "id": "826a8c4c-5fe2-4398-a153-19ae2fa01257",
   "metadata": {},
   "outputs": [
    {
     "data": {
      "text/plain": [
       "27"
      ]
     },
     "execution_count": null,
     "metadata": {},
     "output_type": "execute_result"
    }
   ],
   "source": [
    "dis = [(Y_trn == j).sum().item()/Y_trn.nelement() for j in range(27)]\n",
    "len(dis)"
   ]
  },
  {
   "cell_type": "code",
   "execution_count": null,
   "id": "88a4e2bc-c767-4a73-8bbb-9b38b9dd6b3d",
   "metadata": {},
   "outputs": [],
   "source": [
    "import matplotlib.pyplot as plt\n",
    "import numpy as np\n",
    "%matplotlib inline "
   ]
  },
  {
   "cell_type": "code",
   "execution_count": null,
   "id": "11b4d4bf-b805-4b78-969b-f62989e7b589",
   "metadata": {},
   "outputs": [
    {
     "data": {
      "image/png": "[encoded data removed]",
      "text/plain": [
       "<Figure size 1200x600 with 1 Axes>"
      ]
     },
     "metadata": {},
     "output_type": "display_data"
    }
   ],
   "source": [
    "custom_labels = [f'{itos[j]}' for j in range(27)]\n",
    "num_bins = 27\n",
    "\n",
    "# Bar width\n",
    "bar_width = 0.4\n",
    "\n",
    "# Positions of the bars on the x-axis\n",
    "r1 = np.arange(num_bins)\n",
    "r2 = [x + bar_width for x in r1]\n",
    "\n",
    "# Plot the histogram\n",
    "plt.figure(figsize=(12, 6))\n",
    "plt.bar(r1, dis, color='skyblue', width=bar_width, edgecolor='grey', label='Y_trn')\n",
    "plt.bar(r2, op_freq, color='salmon', width=bar_width, edgecolor='grey', label='gen')\n",
    "\n",
    "\n",
    "plt.xlabel('Class Label')\n",
    "plt.ylabel('Relative Frequency')\n",
    "plt.title('Class Distribution in Y_trn')\n",
    "plt.xticks(ticks=range(27), labels=custom_labels,)\n",
    "plt.grid(axis='y', linestyle='--', alpha=0.7)\n",
    "plt.show()"
   ]
  },
  {
   "cell_type": "markdown",
   "id": "78a66216-78e4-4a3f-baa0-a985580e8915",
   "metadata": {},
   "source": [
    "## Conclusion \n",
    "- the linear model is very hard to converge\n",
    "- op is skewed to wards a\n",
    "- using big NN model should increase the accuracy"
   ]
  }
 ],
 "metadata": {
  "kernelspec": {
   "display_name": "python3",
   "language": "python",
   "name": "python3"
  }
 },
 "nbformat": 4,
 "nbformat_minor": 5
}
