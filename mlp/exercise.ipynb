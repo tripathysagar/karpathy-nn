{
 "cells": [
  {
   "cell_type": "code",
   "execution_count": null,
   "id": "c809e6c9-0b07-45ba-bf55-93d2774dd428",
   "metadata": {},
   "outputs": [
    {
     "data": {
      "text/plain": [
       "['emma', 'olivia']"
      ]
     },
     "execution_count": null,
     "metadata": {},
     "output_type": "execute_result"
    }
   ],
   "source": [
    "words = open('../names.txt', 'r').read().splitlines()\n",
    "words[:2]"
   ]
  },
  {
   "cell_type": "code",
   "execution_count": null,
   "id": "230ee3b6-ccf2-4ccb-97c3-6c526015527f",
   "metadata": {},
   "outputs": [],
   "source": [
    "import torch\n",
    "import torch.nn.functional as F\n",
    "import matplotlib.pyplot as plt\n",
    "%matplotlib inline "
   ]
  },
  {
   "cell_type": "code",
   "execution_count": null,
   "id": "1b0adbc3-1ab9-462b-bcd0-3436498b959b",
   "metadata": {},
   "outputs": [],
   "source": [
    "chars = ['.'] + sorted(set(''.join(words)))\n",
    "stoi = {k:i for i, k in enumerate(chars)}\n",
    "itos = {v:k for k, v in stoi.items()}"
   ]
  },
  {
   "cell_type": "code",
   "execution_count": null,
   "id": "6b72729c-4bad-49a7-8822-e4c50bc89a9e",
   "metadata": {},
   "outputs": [],
   "source": [
    "\n",
    "X, Y = [], []\n",
    "for word in words:\n",
    "    context = [0] * 3\n",
    "    \n",
    "    for w in word + '.':\n",
    "        #print(contex, w)\n",
    "        X.append(context)\n",
    "        Y.append(stoi[w])\n",
    "        #print(''.join(itos[i] for i in context), '--->', w)\n",
    "        context = context[1:] + [stoi[w]]\n",
    "        \n",
    "X = torch.tensor(X)\n",
    "Y = torch.tensor(Y)"
   ]
  },
  {
   "cell_type": "code",
   "execution_count": null,
   "id": "77cf0f76-1b1c-46ef-bed5-ed72d17775a0",
   "metadata": {},
   "outputs": [],
   "source": [
    "assert len(X) == len(Y)"
   ]
  },
  {
   "cell_type": "code",
   "execution_count": null,
   "id": "60613088-2955-43c1-b2dc-179263cc33b9",
   "metadata": {},
   "outputs": [
    {
     "data": {
      "text/plain": [
       "(torch.Size([228146, 3]), torch.int64, torch.Size([228146]), torch.int64)"
      ]
     },
     "execution_count": null,
     "metadata": {},
     "output_type": "execute_result"
    }
   ],
   "source": [
    "X.shape, X.dtype, Y.shape, Y.dtype"
   ]
  },
  {
   "cell_type": "code",
   "execution_count": null,
   "id": "1fb5d9e9-8cda-4fc2-8aec-423fedbc1519",
   "metadata": {},
   "outputs": [
    {
     "name": "stdout",
     "output_type": "stream",
     "text": [
      "torch.Size([182441, 3]) torch.Size([182441])\n",
      "torch.Size([22902, 3]) torch.Size([22902])\n",
      "torch.Size([22803, 3]) torch.Size([22803])\n"
     ]
    }
   ],
   "source": [
    "block_size = 3\n",
    "\n",
    "def build_dataset(words):\n",
    "    X, Y = [], []\n",
    "    \n",
    "    for word in words:\n",
    "        context = [0] * block_size\n",
    "    \n",
    "        for w in word + '.':\n",
    "            #print(contex, w)\n",
    "            X.append(context)\n",
    "            Y.append(stoi[w])\n",
    "            #print(''.join(itos[i] for i in context), '--->', w)\n",
    "            context = context[1:] + [stoi[w]]\n",
    "        \n",
    "    X = torch.tensor(X)\n",
    "    Y = torch.tensor(Y)\n",
    "    print(X.shape, Y.shape)\n",
    "    return X, Y\n",
    "\n",
    "import random\n",
    "random.seed(42)\n",
    "random.shuffle(words)\n",
    "n1 = int(0.8*len(words))\n",
    "n2 = int(0.9*len(words))\n",
    "\n",
    "Xtr, Ytr = build_dataset(words[:n1])\n",
    "Xdev, Ydev = build_dataset(words[n1:n2])\n",
    "Xte, Yte = build_dataset(words[n2:])"
   ]
  },
  {
   "cell_type": "code",
   "execution_count": null,
   "id": "856cf890-2b20-499f-b3c1-bd3086824b89",
   "metadata": {},
   "outputs": [],
   "source": [
    "C = torch.randn((27, 2))"
   ]
  },
  {
   "cell_type": "code",
   "execution_count": null,
   "id": "52274436-776b-465e-a1e8-670d5467ff74",
   "metadata": {},
   "outputs": [
    {
     "data": {
      "text/plain": [
       "torch.Size([228146, 3, 2])"
      ]
     },
     "execution_count": null,
     "metadata": {},
     "output_type": "execute_result"
    }
   ],
   "source": [
    "emb = C[X]\n",
    "emb.shape"
   ]
  },
  {
   "cell_type": "code",
   "execution_count": null,
   "id": "84ac0ce9-d22e-4bf8-a7ce-a283ffe14d2a",
   "metadata": {},
   "outputs": [
    {
     "data": {
      "text/plain": [
       "(torch.Size([6, 100]), torch.Size([100]))"
      ]
     },
     "execution_count": null,
     "metadata": {},
     "output_type": "execute_result"
    }
   ],
   "source": [
    "W1 = torch.randn((6, 100))\n",
    "b1 = torch.randn(100)\n",
    "W1.shape, b1.shape"
   ]
  },
  {
   "cell_type": "code",
   "execution_count": null,
   "id": "9cbafb9c-1127-40ab-a3e2-895b5674b5af",
   "metadata": {},
   "outputs": [
    {
     "data": {
      "text/plain": [
       "(torch.Size([228146, 3]), 228146, torch.Size([228146, 6]))"
      ]
     },
     "execution_count": null,
     "metadata": {},
     "output_type": "execute_result"
    }
   ],
   "source": [
    "X.shape, len(X), emb.view(len(emb), -1).shape"
   ]
  },
  {
   "cell_type": "code",
   "execution_count": null,
   "id": "397bbfd3-3fd1-44f4-a794-d48ebb658123",
   "metadata": {},
   "outputs": [
    {
     "data": {
      "text/plain": [
       "torch.Size([228146, 100])"
      ]
     },
     "execution_count": null,
     "metadata": {},
     "output_type": "execute_result"
    }
   ],
   "source": [
    "h = torch.tanh(emb.view(len(emb), -1) @ W1 + b1)\n",
    "h.shape"
   ]
  },
  {
   "cell_type": "code",
   "execution_count": null,
   "id": "da308295-9cd3-4ef4-a7db-0ec4fcd80d1c",
   "metadata": {},
   "outputs": [
    {
     "data": {
      "text/plain": [
       "torch.Size([228146, 27])"
      ]
     },
     "execution_count": null,
     "metadata": {},
     "output_type": "execute_result"
    }
   ],
   "source": [
    "W2 = torch.randn((100, 27))\n",
    "b2 = torch.randn(27)\n",
    "logits = h @ W2 + b2\n",
    "logits.shape"
   ]
  },
  {
   "cell_type": "code",
   "execution_count": null,
   "id": "77e13185-2518-4b31-a7f2-5b41dba4bb7d",
   "metadata": {},
   "outputs": [],
   "source": [
    "counts = logits.exp()"
   ]
  },
  {
   "cell_type": "code",
   "execution_count": null,
   "id": "61bcb378-3ad2-4e30-b55b-c8f2e4292ea4",
   "metadata": {},
   "outputs": [
    {
     "data": {
      "text/plain": [
       "torch.Size([228146, 27])"
      ]
     },
     "execution_count": null,
     "metadata": {},
     "output_type": "execute_result"
    }
   ],
   "source": [
    "prob = counts / counts.sum(1, keepdims=True)\n",
    "prob.shape"
   ]
  },
  {
   "cell_type": "code",
   "execution_count": null,
   "id": "8cd3fc44-40d0-47db-9fe6-5465be1604ee",
   "metadata": {},
   "outputs": [
    {
     "data": {
      "text/plain": [
       "tensor(15.9562)"
      ]
     },
     "execution_count": null,
     "metadata": {},
     "output_type": "execute_result"
    }
   ],
   "source": [
    "loss = -prob[torch.arange(len(Y)), Y].log().mean()\n",
    "loss"
   ]
  },
  {
   "cell_type": "markdown",
   "id": "27068a34-874b-4970-9757-80eff2ad62cb",
   "metadata": {},
   "source": [
    "## Finding lr"
   ]
  },
  {
   "cell_type": "code",
   "execution_count": null,
   "id": "323d3772-564b-4185-9859-cbc2dcf027da",
   "metadata": {},
   "outputs": [],
   "source": [
    "g = torch.Generator().manual_seed(2147483647) \n",
    "C = torch.randn((27, 2), generator=g)\n",
    "W1 = torch.randn((6, 200), generator=g)\n",
    "b1 = torch.randn(200, generator=g)\n",
    "W2 = torch.randn((200, 27), generator=g)\n",
    "b2 = torch.randn(27, generator=g)\n",
    "parameters = [C, W1, b1, W2, b2]"
   ]
  },
  {
   "cell_type": "code",
   "execution_count": null,
   "id": "0cebb615-f80a-49fb-8a17-e1b2286cdd28",
   "metadata": {},
   "outputs": [],
   "source": [
    "bs = 128\n",
    "lr = 0.1"
   ]
  },
  {
   "cell_type": "code",
   "execution_count": null,
   "id": "6c3a8499-4894-422d-b48b-b1c156faccd9",
   "metadata": {},
   "outputs": [],
   "source": [
    "for p in parameters:\n",
    "    p.requires_grad_(True)"
   ]
  },
  {
   "cell_type": "code",
   "execution_count": null,
   "id": "cc23b8c4-f991-48bd-9303-e8bc607f0e07",
   "metadata": {},
   "outputs": [],
   "source": [
    "lri = []\n",
    "lossi = []"
   ]
  },
  {
   "cell_type": "code",
   "execution_count": null,
   "id": "d4f7669b-7a88-4c1c-bacb-27fc82d2757e",
   "metadata": {},
   "outputs": [
    {
     "data": {
      "text/plain": [
       "1000"
      ]
     },
     "execution_count": null,
     "metadata": {},
     "output_type": "execute_result"
    }
   ],
   "source": [
    "lre = torch.linspace(-3, 0, 1000)\n",
    "lrs = 10**lre\n",
    "len(lrs)"
   ]
  },
  {
   "cell_type": "code",
   "execution_count": null,
   "id": "878492cb-103d-43ae-806e-e410ac18340f",
   "metadata": {},
   "outputs": [],
   "source": [
    "for i in range(len(lrs)):\n",
    "    # mini batch \n",
    "    ix = torch.randint(0, Xtr.shape[0], (bs,))\n",
    "\n",
    "    #forward pass\n",
    "    emb = C[Xtr[ix]].view((bs, -1))              # shape: bs,-1\n",
    "\n",
    "    h = torch.tanh(emb @ W1 + b1)\n",
    "    logits = h @ W2 + b2\n",
    "\n",
    "    for p in parameters:\n",
    "        p.grad = None\n",
    "\n",
    "    loss = F.cross_entropy(logits, Ytr[ix])\n",
    "    \n",
    "    #print(loss.item())\n",
    "    \n",
    "    loss.backward()\n",
    "\n",
    "    for p in parameters:\n",
    "        p.data -= lrs[i] * p.grad\n",
    "    \n",
    "    lossi.append(loss.log().item())\n",
    "    lri.append(lrs[i])"
   ]
  },
  {
   "cell_type": "code",
   "execution_count": null,
   "id": "53f2952c-9525-4809-8b07-575579708ac3",
   "metadata": {},
   "outputs": [
    {
     "data": {
      "text/plain": [
       "Text(0, 0.5, 'loss')"
      ]
     },
     "execution_count": null,
     "metadata": {},
     "output_type": "execute_result"
    },
    {
     "data": {
      "image/png": "[encoded data removed]",
      "text/plain": [
       "<Figure size 640x480 with 1 Axes>"
      ]
     },
     "metadata": {},
     "output_type": "display_data"
    }
   ],
   "source": [
    "plt.plot(lri, lossi)\n",
    "plt.xlabel('lr')\n",
    "plt.ylabel('loss')"
   ]
  },
  {
   "cell_type": "markdown",
   "id": "32fc44e0-4273-44fa-bccc-0b89f8277b18",
   "metadata": {},
   "source": [
    "lr = [0.1, 0.2]"
   ]
  },
  {
   "cell_type": "markdown",
   "id": "004d2280-2390-4acf-8715-5cc8a477a264",
   "metadata": {},
   "source": [
    "## with lr = 0.1 and bs = 64"
   ]
  },
  {
   "cell_type": "code",
   "execution_count": null,
   "id": "24054de2-1605-4ed6-81ea-9bf34eb0db1f",
   "metadata": {},
   "outputs": [],
   "source": [
    "g = torch.Generator().manual_seed(2147483647) \n",
    "C = torch.randn((27, 2), generator=g)\n",
    "W1 = torch.randn((6, 200), generator=g)\n",
    "b1 = torch.randn(200, generator=g)\n",
    "W2 = torch.randn((200, 27), generator=g)\n",
    "b2 = torch.randn(27, generator=g)\n",
    "parameters = [C, W1, b1, W2, b2]\n",
    "for p in parameters:\n",
    "    p.requires_grad_(True)"
   ]
  },
  {
   "cell_type": "code",
   "execution_count": null,
   "id": "f5fe89d1-95d8-481b-80d2-623b5fe9a827",
   "metadata": {},
   "outputs": [],
   "source": [
    "bs = 64\n",
    "lr = 0.1"
   ]
  },
  {
   "cell_type": "code",
   "execution_count": null,
   "id": "d20cc8f2-60bb-4244-9284-4e687c15daad",
   "metadata": {},
   "outputs": [],
   "source": [
    "lri = []\n",
    "lossi = []"
   ]
  },
  {
   "cell_type": "code",
   "execution_count": null,
   "id": "c2884c63-adf1-4303-99ee-999358df30e9",
   "metadata": {},
   "outputs": [],
   "source": [
    "for i in range(200000):\n",
    "    # mini batch \n",
    "    ix = torch.randint(0, Xtr.shape[0], (bs,))\n",
    "\n",
    "    #forward pass\n",
    "    emb = C[Xtr[ix]].view((bs, -1))              # shape: bs,-1\n",
    "\n",
    "    h = torch.tanh(emb @ W1 + b1)\n",
    "    logits = h @ W2 + b2\n",
    "\n",
    "    for p in parameters:\n",
    "        p.grad = None\n",
    "\n",
    "    loss = F.cross_entropy(logits, Ytr[ix])\n",
    "    \n",
    "    #print(loss.item())\n",
    "    \n",
    "    loss.backward()\n",
    "\n",
    "    lr = lr if i < 100000 else lr/100\n",
    "    for p in parameters:\n",
    "        \n",
    "        p.data -= lr * p.grad\n",
    "            \n",
    "    \n",
    "    lossi.append(loss.log().item())\n",
    "    lri.append(i)"
   ]
  },
  {
   "cell_type": "code",
   "execution_count": null,
   "id": "36083cb3-1130-40a0-8cd0-0f91602df7cc",
   "metadata": {},
   "outputs": [
    {
     "name": "stdout",
     "output_type": "stream",
     "text": [
      "train loss : 2.3148, dev loss : 2.3529\n"
     ]
    }
   ],
   "source": [
    "emb_dev = C[Xdev].view((-1, W1.shape[0]))\n",
    "h_dev = torch.tanh(emb_dev @ W1 + b1)\n",
    "logits_dev = h_dev @ W2 + b2\n",
    "loss_dev = F.cross_entropy(logits_dev, Ydev)\n",
    "print(f\"train loss : {loss.item():.4f}, dev loss : {loss_dev.item():.4f}\")"
   ]
  },
  {
   "cell_type": "code",
   "execution_count": null,
   "id": "3305c2b5-1d75-4cb7-bc1b-309f4f2a920b",
   "metadata": {},
   "outputs": [
    {
     "data": {
      "image/png": "[encoded data removed]",
      "text/plain": [
       "<Figure size 800x800 with 1 Axes>"
      ]
     },
     "metadata": {},
     "output_type": "display_data"
    }
   ],
   "source": [
    "# visualize dimensions 0 and 1 of the embedding matrix C for all characters\n",
    "plt.figure(figsize=(8,8))\n",
    "plt.scatter(C[:,0].data, C[:,1].data, s=200)\n",
    "for i in range(C.shape[0]):\n",
    "    plt.text(C[i,0].item(), C[i,1].item(), itos[i], ha=\"center\", va=\"center\", color='white')\n",
    "plt.grid('minor')"
   ]
  },
  {
   "cell_type": "code",
   "execution_count": null,
   "id": "e8aacba1-3d39-4a88-ac7a-65c84cab2248",
   "metadata": {},
   "outputs": [
    {
     "data": {
      "text/plain": [
       "Text(0, 0.5, 'loss')"
      ]
     },
     "execution_count": null,
     "metadata": {},
     "output_type": "execute_result"
    },
    {
     "data": {
      "image/png": "[encoded data removed]",
      "text/plain": [
       "<Figure size 640x480 with 1 Axes>"
      ]
     },
     "metadata": {},
     "output_type": "display_data"
    }
   ],
   "source": [
    "plt.plot(lri, lossi)\n",
    "plt.xlabel('lr')\n",
    "plt.ylabel('loss')"
   ]
  },
  {
   "cell_type": "markdown",
   "id": "dd16d1bc-45ec-42aa-b129-664954feeac9",
   "metadata": {},
   "source": [
    "## Tune the hyperparameters of the training to beat my best validation loss of 2.2\n",
    "with lr = 0.1, bs = 256, embedding dim = 20"
   ]
  },
  {
   "cell_type": "code",
   "execution_count": null,
   "id": "8e49b8d9-0583-4d41-807a-e96e8ae33155",
   "metadata": {},
   "outputs": [],
   "source": [
    "g = torch.Generator().manual_seed(2147483647) \n",
    "C = torch.randn((27, 20), generator=g)\n",
    "W1 = torch.randn((60, 120), generator=g)\n",
    "b1 = torch.randn(120, generator=g)\n",
    "W2 = torch.randn((120, 27), generator=g)\n",
    "b2 = torch.randn(27, generator=g)\n",
    "parameters = [C, W1, b1, W2, b2]\n",
    "for p in parameters:\n",
    "    p.requires_grad_(True)"
   ]
  },
  {
   "cell_type": "code",
   "execution_count": null,
   "id": "ecd4506b-a2a5-49c7-8292-9dd9c399fdbd",
   "metadata": {},
   "outputs": [],
   "source": [
    "bs = 256\n",
    "lr = 0.1"
   ]
  },
  {
   "cell_type": "code",
   "execution_count": null,
   "id": "5ce18503-525f-4c80-ac3d-91a3d432dbb3",
   "metadata": {},
   "outputs": [],
   "source": [
    "lri = []\n",
    "lossi = []"
   ]
  },
  {
   "cell_type": "code",
   "execution_count": null,
   "id": "375748b6-d077-4051-b928-e02142120178",
   "metadata": {},
   "outputs": [],
   "source": [
    "for i in range(200000):\n",
    "    # mini batch \n",
    "    ix = torch.randint(0, Xtr.shape[0], (bs,))\n",
    "\n",
    "    #forward pass\n",
    "    emb = C[Xtr[ix]].view((bs, -1))              # shape: bs,-1\n",
    "\n",
    "    h = torch.tanh(emb @ W1 + b1)\n",
    "    logits = h @ W2 + b2\n",
    "\n",
    "    for p in parameters:\n",
    "        p.grad = None\n",
    "\n",
    "    loss = F.cross_entropy(logits, Ytr[ix])\n",
    "    \n",
    "    #print(loss.item())\n",
    "    \n",
    "    loss.backward()\n",
    "\n",
    "    lr = lr if i < 100000 else lr/100\n",
    "    for p in parameters:\n",
    "        \n",
    "        p.data -= lr * p.grad\n",
    "            \n",
    "    \n",
    "    lossi.append(loss.log().item())\n",
    "    lri.append(i)"
   ]
  },
  {
   "cell_type": "code",
   "execution_count": null,
   "id": "6313fbd9-1418-4057-842d-abee99309561",
   "metadata": {},
   "outputs": [
    {
     "name": "stdout",
     "output_type": "stream",
     "text": [
      "train loss : 2.0861, dev loss : 2.1616\n"
     ]
    }
   ],
   "source": [
    "emb_dev = C[Xdev].view((-1, W1.shape[0]))\n",
    "h_dev = torch.tanh(emb_dev @ W1 + b1)\n",
    "logits_dev = h_dev @ W2 + b2\n",
    "loss_dev = F.cross_entropy(logits_dev, Ydev)\n",
    "print(f\"train loss : {loss.item():.4f}, dev loss : {loss_dev.item():.4f}\")"
   ]
  },
  {
   "cell_type": "code",
   "execution_count": null,
   "id": "f47a8df4-fd36-4830-b0fa-42c278b09b40",
   "metadata": {},
   "outputs": [
    {
     "data": {
      "text/plain": [
       "Text(0, 0.5, 'loss')"
      ]
     },
     "execution_count": null,
     "metadata": {},
     "output_type": "execute_result"
    },
    {
     "data": {
      "image/png": "[encoded data removed]",
      "text/plain": [
       "<Figure size 640x480 with 1 Axes>"
      ]
     },
     "metadata": {},
     "output_type": "display_data"
    }
   ],
   "source": [
    "plt.plot(lri, lossi)\n",
    "plt.xlabel('lr')\n",
    "plt.ylabel('loss')"
   ]
  },
  {
   "cell_type": "markdown",
   "id": "e6ca4d3b-8eac-4ddc-bec4-28160338f472",
   "metadata": {},
   "source": [
    "## 1. I was not careful with the intialization of the network in this video. (1) What is the loss you'd get if the predicted probabilities at initialization were perfectly uniform? What loss do we achieve? (2) Can you tune the initialization to get a starting loss that is much more similar to (1)?"
   ]
  },
  {
   "cell_type": "code",
   "execution_count": null,
   "id": "7a7a060e-4850-409e-937d-bb498026052c",
   "metadata": {},
   "outputs": [
    {
     "name": "stdout",
     "output_type": "stream",
     "text": [
      "torch.Size([3, 5])\n"
     ]
    },
    {
     "data": {
      "text/plain": [
       "tensor([[0.1170, 0.5057, 0.2301, 0.7359, 0.4985],\n",
       "        [0.5969, 0.2751, 0.3282, 0.0919, 0.7979],\n",
       "        [0.9263, 0.4689, 0.2544, 0.5897, 0.1130]])"
      ]
     },
     "execution_count": null,
     "metadata": {},
     "output_type": "execute_result"
    }
   ],
   "source": [
    "w = torch.empty(3, 5)\n",
    "print(w.shape)\n",
    "w = torch.nn.init.uniform_(w)\n",
    "w"
   ]
  },
  {
   "cell_type": "code",
   "execution_count": null,
   "id": "bff801aa-4756-4275-a8eb-41cfed10a7dd",
   "metadata": {},
   "outputs": [
    {
     "data": {
      "text/plain": [
       "torch.Size([3, 3])"
      ]
     },
     "execution_count": null,
     "metadata": {},
     "output_type": "execute_result"
    }
   ],
   "source": [
    "def gen_uni(dim, generator=g):\n",
    "    w = torch.empty(dim)\n",
    "    return torch.nn.init.uniform_(w)\n",
    "gen_uni((3,3),g).shape"
   ]
  },
  {
   "cell_type": "code",
   "execution_count": null,
   "id": "331c694e-e9e0-42ac-8e5d-84dc8f7f6164",
   "metadata": {},
   "outputs": [],
   "source": [
    "g = torch.Generator().manual_seed(2147483647) \n",
    "C = gen_uni((27, 20), generator=g)\n",
    "W1 = gen_uni((60, 120), generator=g)\n",
    "b1 = gen_uni(120, generator=g)\n",
    "W2 = gen_uni((120, 27), generator=g)\n",
    "b2 = gen_uni(27, generator=g)\n",
    "parameters = [C, W1, b1, W2, b2]\n",
    "for p in parameters:\n",
    "    p.requires_grad_(True)"
   ]
  },
  {
   "cell_type": "code",
   "execution_count": null,
   "id": "62ee676e-86e1-4ce7-9d23-b3b04770d323",
   "metadata": {},
   "outputs": [],
   "source": [
    "bs = 256\n",
    "lr = 0.1"
   ]
  },
  {
   "cell_type": "code",
   "execution_count": null,
   "id": "9bb52234-a485-4031-9645-f228ec5c88cf",
   "metadata": {},
   "outputs": [],
   "source": [
    "lri = []\n",
    "lossi = []"
   ]
  },
  {
   "cell_type": "code",
   "execution_count": null,
   "id": "3da1787f-8c75-4912-8297-eafc016fb8aa",
   "metadata": {},
   "outputs": [],
   "source": [
    "for i in range(300000):\n",
    "    # mini batch \n",
    "    ix = torch.randint(0, Xtr.shape[0], (bs,))\n",
    "\n",
    "    #forward pass\n",
    "    emb = C[Xtr[ix]].view((bs, -1))              # shape: bs,-1\n",
    "\n",
    "    h = torch.tanh(emb @ W1 + b1)\n",
    "    logits = h @ W2 + b2\n",
    "\n",
    "    for p in parameters:\n",
    "        p.grad = None\n",
    "\n",
    "    loss = F.cross_entropy(logits, Ytr[ix])\n",
    "    \n",
    "    #print(loss.item())\n",
    "    \n",
    "    loss.backward()\n",
    "\n",
    "    lr = lr if i < 150000 else lr/100\n",
    "    for p in parameters:\n",
    "        \n",
    "        p.data -= lr * p.grad\n",
    "            \n",
    "    \n",
    "    lossi.append(loss.log().item())\n",
    "    lri.append(i)"
   ]
  },
  {
   "cell_type": "code",
   "execution_count": null,
   "id": "6310b6b8-8a8a-49cf-acf2-f071c142cc6f",
   "metadata": {},
   "outputs": [
    {
     "name": "stdout",
     "output_type": "stream",
     "text": [
      "train loss : 2.9389, dev loss : 2.8481\n"
     ]
    }
   ],
   "source": [
    "emb_dev = C[Xdev].view((-1, W1.shape[0]))\n",
    "h_dev = torch.tanh(emb_dev @ W1 + b1)\n",
    "logits_dev = h_dev @ W2 + b2\n",
    "loss_dev = F.cross_entropy(logits_dev, Ydev)\n",
    "print(f\"train loss : {loss.item():.4f}, dev loss : {loss_dev.item():.4f}\")"
   ]
  },
  {
   "cell_type": "code",
   "execution_count": null,
   "id": "0410c751-52f0-4c5b-9383-4cc6f7299028",
   "metadata": {},
   "outputs": [
    {
     "data": {
      "text/plain": [
       "Text(0, 0.5, 'loss')"
      ]
     },
     "execution_count": null,
     "metadata": {},
     "output_type": "execute_result"
    },
    {
     "data": {
      "image/png": "[encoded data removed]",
      "text/plain": [
       "<Figure size 640x480 with 1 Axes>"
      ]
     },
     "metadata": {},
     "output_type": "display_data"
    }
   ],
   "source": [
    "plt.plot(lri, lossi)\n",
    "plt.xlabel('lr')\n",
    "plt.ylabel('loss')"
   ]
  },
  {
   "cell_type": "markdown",
   "id": "96db3c6a-85cd-417c-ba07-274e45174485",
   "metadata": {},
   "source": [
    "## Exercises:\n",
    "1. Tune the hyperparameters of the training to beat my best validation loss of 2.2\n",
    "1. I was not careful with the intialization of the network in this video. (1) What is the loss you'd get if the predicted probabilities at initialization were perfectly uniform? What loss do we achieve? (2) Can you tune the initialization to get a starting loss that is much more similar to (1)?\n",
    "1. Read the Bengio et al 2003 paper (link above), implement and try any idea from the paper. Did it work?"
   ]
  },
  {
   "cell_type": "code",
   "execution_count": null,
   "id": "7bbbd7f0-e7b5-4095-888c-c58a23201c96",
   "metadata": {},
   "outputs": [],
   "source": []
  }
 ],
 "metadata": {
  "kernelspec": {
   "display_name": "python3",
   "language": "python",
   "name": "python3"
  }
 },
 "nbformat": 4,
 "nbformat_minor": 5
}
