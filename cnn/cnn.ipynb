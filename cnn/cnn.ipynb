{
 "cells": [
  {
   "cell_type": "code",
   "execution_count": null,
   "id": "96933345-95a5-4f8c-887d-158fb72110fd",
   "metadata": {},
   "outputs": [],
   "source": [
    "import torch\n",
    "import torch.nn as nn\n",
    "import torch.nn.functional as F\n",
    "import matplotlib.pyplot as plt\n",
    "%matplotlib inline "
   ]
  },
  {
   "cell_type": "code",
   "execution_count": null,
   "id": "672276c0-7efe-40fe-b8fd-e9d23e8df4b5",
   "metadata": {},
   "outputs": [
    {
     "data": {
      "text/plain": [
       "['emma', 'olivia']"
      ]
     },
     "execution_count": null,
     "metadata": {},
     "output_type": "execute_result"
    }
   ],
   "source": [
    "words = open('../names.txt', 'r').read().splitlines()\n",
    "words[:2]"
   ]
  },
  {
   "cell_type": "code",
   "execution_count": null,
   "id": "9c1447bb-e6d1-44f8-9560-de76ec736819",
   "metadata": {},
   "outputs": [
    {
     "name": "stdout",
     "output_type": "stream",
     "text": [
      "{1: 'a', 2: 'b', 3: 'c', 4: 'd', 5: 'e', 6: 'f', 7: 'g', 8: 'h', 9: 'i', 10: 'j', 11: 'k', 12: 'l', 13: 'm', 14: 'n', 15: 'o', 16: 'p', 17: 'q', 18: 'r', 19: 's', 20: 't', 21: 'u', 22: 'v', 23: 'w', 24: 'x', 25: 'y', 26: 'z', 0: '.'}\n",
      "27\n"
     ]
    }
   ],
   "source": [
    "# build the vocabulary of characters and mappings to/from integers\n",
    "chars = sorted(list(set(''.join(words))))\n",
    "stoi = {s:i+1 for i,s in enumerate(chars)}\n",
    "stoi['.'] = 0\n",
    "itos = {i:s for s,i in stoi.items()}\n",
    "vocab_size = len(itos)\n",
    "print(itos)\n",
    "print(vocab_size)"
   ]
  },
  {
   "cell_type": "code",
   "execution_count": null,
   "id": "4a291936-4d3d-4989-bb85-a39de6fa4433",
   "metadata": {},
   "outputs": [
    {
     "name": "stdout",
     "output_type": "stream",
     "text": [
      "torch.Size([182625, 8]) torch.Size([182625])\n",
      "torch.Size([22655, 8]) torch.Size([22655])\n",
      "torch.Size([22866, 8]) torch.Size([22866])\n"
     ]
    }
   ],
   "source": [
    "# build the dataset\n",
    "block_size = 8 # context length: how many characters do we take to predict the next one?\n",
    "\n",
    "def build_dataset(words):\n",
    "  X, Y = [], []\n",
    "\n",
    "  for w in words:\n",
    "    context = [0] * block_size\n",
    "    for ch in w + '.':\n",
    "      ix = stoi[ch]\n",
    "      X.append(context)\n",
    "      Y.append(ix)\n",
    "      context = context[1:] + [ix] # crop and append\n",
    "\n",
    "  X = torch.tensor(X)\n",
    "  Y = torch.tensor(Y)\n",
    "  print(X.shape, Y.shape)\n",
    "  return X, Y\n",
    "\n",
    "import random\n",
    "random.seed(42)\n",
    "random.shuffle(words)\n",
    "n1 = int(0.8*len(words))\n",
    "n2 = int(0.9*len(words))\n",
    "\n",
    "Xtr,  Ytr  = build_dataset(words[:n1])     # 80%\n",
    "Xdev, Ydev = build_dataset(words[n1:n2])   # 10%\n",
    "Xte,  Yte  = build_dataset(words[n2:])     # 10%"
   ]
  },
  {
   "cell_type": "code",
   "execution_count": null,
   "id": "a667adb9-bdbf-495e-8e1c-17b14a39ea2a",
   "metadata": {},
   "outputs": [],
   "source": [
    "n_embd = 32 # the dimensionality of the character embedding vectors\n",
    "n_hidden = 256\n",
    "n_iters = 30_000\n",
    "bs = 1024"
   ]
  },
  {
   "cell_type": "markdown",
   "id": "55be2b0a-0f68-4276-9430-697731342550",
   "metadata": {},
   "source": [
    "Convolutoin basics"
   ]
  },
  {
   "cell_type": "code",
   "execution_count": null,
   "id": "89f2ae1b-2ce6-4665-8087-d70a1f1df52d",
   "metadata": {},
   "outputs": [
    {
     "data": {
      "text/plain": [
       "torch.Size([27, 2])"
      ]
     },
     "execution_count": null,
     "metadata": {},
     "output_type": "execute_result"
    }
   ],
   "source": [
    "emb = torch.randn((vocab_size, 2))\n",
    "emb.shape"
   ]
  },
  {
   "cell_type": "code",
   "execution_count": null,
   "id": "53e9c051-99bf-4201-8566-d613c6789621",
   "metadata": {},
   "outputs": [
    {
     "data": {
      "text/plain": [
       "(tensor([[0, 0, 0, 0, 0, 0, 0, 0]]), tensor([25]))"
      ]
     },
     "execution_count": null,
     "metadata": {},
     "output_type": "execute_result"
    }
   ],
   "source": [
    "x, y = Xtr[:1], Ytr[:1]\n",
    "x, y"
   ]
  },
  {
   "cell_type": "code",
   "execution_count": null,
   "id": "da21de5b-8ee5-48cb-90c9-dbbccd6ac10c",
   "metadata": {},
   "outputs": [
    {
     "data": {
      "text/plain": [
       "torch.Size([1, 8, 2])"
      ]
     },
     "execution_count": null,
     "metadata": {},
     "output_type": "execute_result"
    }
   ],
   "source": [
    "x_emb = emb[x]\n",
    "x_emb.shape"
   ]
  },
  {
   "cell_type": "code",
   "execution_count": null,
   "id": "7f437b7a-f88f-44f3-be5e-d2c455eb6c04",
   "metadata": {},
   "outputs": [
    {
     "data": {
      "text/plain": [
       "torch.Size([1, 4, 4])"
      ]
     },
     "execution_count": null,
     "metadata": {},
     "output_type": "execute_result"
    }
   ],
   "source": [
    "x_emb = x_emb.view(1, 4, 4)\n",
    "x_emb.shape"
   ]
  },
  {
   "cell_type": "code",
   "execution_count": null,
   "id": "272b4253-f125-4a16-b15b-7b5bc3f92c7b",
   "metadata": {},
   "outputs": [
    {
     "data": {
      "text/plain": [
       "torch.Size([1, 4, 2])"
      ]
     },
     "execution_count": null,
     "metadata": {},
     "output_type": "execute_result"
    }
   ],
   "source": [
    "c = nn.Conv1d(4, 4,  kernel_size=3, stride=2, padding=1)\n",
    "x_intr = c(x_emb)\n",
    "x_intr.shape"
   ]
  },
  {
   "cell_type": "code",
   "execution_count": null,
   "id": "e47000c6-6bdc-44fd-a3bf-6acfe820b8e7",
   "metadata": {},
   "outputs": [
    {
     "data": {
      "text/plain": [
       "torch.Size([1, 2, 4])"
      ]
     },
     "execution_count": null,
     "metadata": {},
     "output_type": "execute_result"
    }
   ],
   "source": [
    "x_intr = x_intr.view(1, 2, 4)\n",
    "x_intr.shape"
   ]
  },
  {
   "cell_type": "code",
   "execution_count": null,
   "id": "35de604f-2539-408d-803d-9a7347f339a4",
   "metadata": {},
   "outputs": [
    {
     "data": {
      "text/plain": [
       "torch.Size([1, 2, 2])"
      ]
     },
     "execution_count": null,
     "metadata": {},
     "output_type": "execute_result"
    }
   ],
   "source": [
    "c = nn.Conv1d(2, 2,  kernel_size=3, stride=2, padding=1)\n",
    "\n",
    "x_intr = c(x_intr)\n",
    "x_intr.shape"
   ]
  },
  {
   "cell_type": "code",
   "execution_count": null,
   "id": "bf70197c-3968-4b07-a028-2ba476a4b302",
   "metadata": {},
   "outputs": [
    {
     "data": {
      "text/plain": [
       "torch.Size([1, 1, 4])"
      ]
     },
     "execution_count": null,
     "metadata": {},
     "output_type": "execute_result"
    }
   ],
   "source": [
    "x_intr = x_intr.view(1, 1, 4)\n",
    "x_intr.shape"
   ]
  },
  {
   "cell_type": "code",
   "execution_count": null,
   "id": "cc7514b3-4fe3-40d0-a9e0-b6fbc8fdef6a",
   "metadata": {},
   "outputs": [
    {
     "data": {
      "text/plain": [
       "torch.Size([1, 1, 2])"
      ]
     },
     "execution_count": null,
     "metadata": {},
     "output_type": "execute_result"
    }
   ],
   "source": [
    "c = nn.Conv1d(1, 1,  kernel_size=3, stride=2, padding=1)\n",
    "\n",
    "x_intr = c(x_intr)\n",
    "x_intr.shape"
   ]
  },
  {
   "cell_type": "code",
   "execution_count": null,
   "id": "0fae8bd0-6338-4673-96dc-e5732f89699b",
   "metadata": {},
   "outputs": [
    {
     "name": "stdout",
     "output_type": "stream",
     "text": [
      "Parameter containing:\n",
      "tensor([[[-0.4797, -0.2000, -0.0679]]], requires_grad=True)\n",
      "Parameter containing:\n",
      "tensor([0.0914], requires_grad=True)\n"
     ]
    }
   ],
   "source": [
    "for p in c.parameters():\n",
    "    print(p)"
   ]
  },
  {
   "cell_type": "code",
   "execution_count": null,
   "id": "5340a8db-5239-4363-b4ea-8d862015e139",
   "metadata": {},
   "outputs": [
    {
     "data": {
      "text/plain": [
       "(torch.Size([182625, 8, 32]), torch.Size([182625, 4, 64]))"
      ]
     },
     "execution_count": null,
     "metadata": {},
     "output_type": "execute_result"
    }
   ],
   "source": [
    "emb =  nn.Embedding(vocab_size, n_embd)\n",
    "x = emb(Xtr)\n",
    "x.shape, x.view(x.shape[0], 8//2, 32*2).shape"
   ]
  },
  {
   "cell_type": "markdown",
   "id": "ce6aa680-7861-4fd0-9f19-1e1c110af83c",
   "metadata": {},
   "source": [
    "## CNN"
   ]
  },
  {
   "cell_type": "code",
   "execution_count": null,
   "id": "ec204b5e-0699-4e45-b58b-deca66ac4cdd",
   "metadata": {},
   "outputs": [],
   "source": [
    "def conv(ni, nf, k=3, s=1):\n",
    "    layer = [nn.Conv1d(ni, nf,  kernel_size=k, stride=s, padding=(k-1)//2)]\n",
    "    layer.append(nn.BatchNorm1d(nf))\n",
    "    \n",
    "    return nn.Sequential(*layer)\n",
    "    \n",
    "def block(ni, nf, k=3, non_linear='tanh'):\n",
    "\n",
    "    layer = [conv(ni, nf,  k=1)]\n",
    "    non_linear = nn.Tanh() if non_linear == 'tanh' else nn.Sigmoid()\n",
    "    layer.append(non_linear)\n",
    "    layer.append(conv(nf, nf,  k=k, s=2))\n",
    "    \n",
    "    return nn.Sequential(*layer)"
   ]
  },
  {
   "cell_type": "code",
   "execution_count": null,
   "id": "6fb7011b-7a78-4a54-9b7e-0cc1297a6ead",
   "metadata": {},
   "outputs": [],
   "source": [
    "class FlattenConsecutive:\n",
    "    def __init__(self, n):\n",
    "        #super(FlattenConsecutive, self).__init__()\n",
    "        self.n = n\n",
    "    \n",
    "    def __call__(self, x):\n",
    "        B, T, C = x.shape\n",
    "        x = x.view(B, T//self.n, C*self.n)\n",
    "        return x"
   ]
  },
  {
   "cell_type": "code",
   "execution_count": null,
   "id": "6372d2b8-101b-4f2d-8f4a-ecdd81332349",
   "metadata": {},
   "outputs": [
    {
     "data": {
      "text/plain": [
       "(torch.Size([182625, 1, 128]), torch.Size([182625, 128]))"
      ]
     },
     "execution_count": null,
     "metadata": {},
     "output_type": "execute_result"
    }
   ],
   "source": [
    "f = FlattenConsecutive(2)\n",
    "t = torch.randn((182625,2, 64))\n",
    "f(t).shape, f(t).squeeze(1).shape"
   ]
  },
  {
   "cell_type": "code",
   "execution_count": null,
   "id": "25de1822-5076-4ec1-a08f-b90a1708239b",
   "metadata": {},
   "outputs": [
    {
     "name": "stdout",
     "output_type": "stream",
     "text": [
      "19529\n"
     ]
    },
    {
     "data": {
      "text/plain": [
       "CNN(\n",
       "  (emb): Embedding(27, 32)\n",
       "  (b1): Sequential(\n",
       "    (0): Sequential(\n",
       "      (0): Conv1d(4, 4, kernel_size=(1,), stride=(1,))\n",
       "      (1): BatchNorm1d(4, eps=1e-05, momentum=0.1, affine=True, track_running_stats=True)\n",
       "    )\n",
       "    (1): Tanh()\n",
       "    (2): Sequential(\n",
       "      (0): Conv1d(4, 4, kernel_size=(7,), stride=(2,), padding=(3,))\n",
       "      (1): BatchNorm1d(4, eps=1e-05, momentum=0.1, affine=True, track_running_stats=True)\n",
       "    )\n",
       "  )\n",
       "  (b2): Sequential(\n",
       "    (0): Sequential(\n",
       "      (0): Conv1d(2, 2, kernel_size=(1,), stride=(1,))\n",
       "      (1): BatchNorm1d(2, eps=1e-05, momentum=0.1, affine=True, track_running_stats=True)\n",
       "    )\n",
       "    (1): Tanh()\n",
       "    (2): Sequential(\n",
       "      (0): Conv1d(2, 2, kernel_size=(7,), stride=(2,), padding=(3,))\n",
       "      (1): BatchNorm1d(2, eps=1e-05, momentum=0.1, affine=True, track_running_stats=True)\n",
       "    )\n",
       "  )\n",
       "  (b3): Sequential(\n",
       "    (0): Sequential(\n",
       "      (0): Conv1d(1, 2, kernel_size=(1,), stride=(1,))\n",
       "      (1): BatchNorm1d(2, eps=1e-05, momentum=0.1, affine=True, track_running_stats=True)\n",
       "    )\n",
       "    (1): Tanh()\n",
       "    (2): Sequential(\n",
       "      (0): Conv1d(2, 2, kernel_size=(7,), stride=(2,), padding=(3,))\n",
       "      (1): BatchNorm1d(2, eps=1e-05, momentum=0.1, affine=True, track_running_stats=True)\n",
       "    )\n",
       "  )\n",
       "  (ln1): Linear(in_features=64, out_features=200, bias=True)\n",
       "  (ln2): Linear(in_features=200, out_features=27, bias=True)\n",
       ")"
      ]
     },
     "execution_count": null,
     "metadata": {},
     "output_type": "execute_result"
    }
   ],
   "source": [
    "class CNN(nn.Module):\n",
    "    def __init__(self):\n",
    "        super(CNN, self).__init__()\n",
    "        self.emb = nn.Embedding(vocab_size, n_embd)\n",
    "        self.b1 = block(4, 4, k=7)\n",
    "        self.b2 = block(2, 2, k=7)\n",
    "        self.b3 = block(1, 2, k=7)\n",
    "        self.flat = FlattenConsecutive(2)\n",
    "        self.ln1 = nn.Linear(n_embd*2, n_hidden)\n",
    "        self.ln2 = nn.Linear(n_hidden, vocab_size)\n",
    "        \n",
    "        \n",
    "        \n",
    "    def forward(self, x):\n",
    "        \n",
    "        x = self.emb(x)                     # bs * block_size * n_embd\n",
    "        #print(\"emb -> \", x.shape)\n",
    "        x = self.flat(x)                    # bs * block_size//2 * n_embd * 2\n",
    "        #print(\"flatten1 -> \",x.shape)\n",
    "        x = self.b1(x)                      # bs * block_size//2 * n_embd \n",
    "        #print(\"b1 -> \", x.shape)\n",
    "        x = self.flat(x)                    # bs * block_size//4 * n_embd * 2\n",
    "        #print(\"flatten2 -> \",x.shape)\n",
    "        x = self.b2(x)                      # bs * block_size//4 * n_embd \n",
    "        #print(\"b2 -> \",x.shape)\n",
    "        x = self.flat(x)                    # bs * block_size//8 * n_embd * 2\n",
    "        #print(\"flatten3 -> \",x.shape)\n",
    "        x = self.b3(x).view(-1, n_embd*2)              #.squeeze(1)           # bs * n_embd \n",
    "        #print(\"b3 -> \",x.shape)\n",
    "        x = self.ln2((self.ln1(x)).tanh())\n",
    "        return x\n",
    "model = CNN()\n",
    "parameters = model.parameters()\n",
    "print(sum(p.nelement() for p in parameters))\n",
    "model"
   ]
  },
  {
   "cell_type": "code",
   "execution_count": null,
   "id": "08913223-8c91-4571-8b03-5d082868aa88",
   "metadata": {},
   "outputs": [
    {
     "data": {
      "text/plain": [
       "torch.Size([182625, 27])"
      ]
     },
     "execution_count": null,
     "metadata": {},
     "output_type": "execute_result"
    }
   ],
   "source": [
    "x = model(Xtr)\n",
    "x.shape"
   ]
  },
  {
   "cell_type": "code",
   "execution_count": null,
   "id": "0ae1e727-68e2-4775-98a2-417ac2b3e231",
   "metadata": {},
   "outputs": [
    {
     "data": {
      "text/plain": [
       "tensor(3.2987, grad_fn=<NllLossBackward0>)"
      ]
     },
     "execution_count": null,
     "metadata": {},
     "output_type": "execute_result"
    }
   ],
   "source": [
    "loss = F.cross_entropy(x, Ytr)\n",
    "loss"
   ]
  },
  {
   "cell_type": "code",
   "execution_count": null,
   "id": "83d46e25-8907-403d-929b-5d288268f1f0",
   "metadata": {},
   "outputs": [
    {
     "name": "stdout",
     "output_type": "stream",
     "text": [
      "0 -> 3.2917\n",
      "1000 -> 2.2254\n",
      "2000 -> 2.3429\n",
      "3000 -> 2.2011\n",
      "4000 -> 2.2108\n",
      "5000 -> 2.1020\n",
      "6000 -> 2.0349\n",
      "7000 -> 2.1012\n",
      "8000 -> 2.0885\n",
      "9000 -> 2.0838\n",
      "10000 -> 2.0528\n",
      "11000 -> 2.1360\n",
      "12000 -> 2.1320\n",
      "13000 -> 2.0410\n",
      "14000 -> 2.2275\n",
      "15000 -> 1.9916\n",
      "16000 -> 1.9482\n",
      "17000 -> 2.1525\n",
      "18000 -> 2.0752\n",
      "19000 -> 1.9779\n"
     ]
    }
   ],
   "source": [
    "lossi = []\n",
    "for i in range(n_iters):\n",
    "  ix = torch.randint(0, Xtr.shape[0], (bs,))\n",
    "  Xb, Yb = Xtr[ix], Ytr[ix] # batch\n",
    "    \n",
    "  pred = model(Xb)\n",
    "\n",
    "  loss = F.cross_entropy(pred, Yb)\n",
    "\n",
    "  # backward pass\n",
    "  model.zero_grad()\n",
    "  loss.backward()\n",
    "\n",
    "  # update\n",
    "  lr = 0.5 if i < 100000 else 0.001 # step learning rate decay\n",
    "  with torch.no_grad():\n",
    "      for p in model.parameters():\n",
    "        p.data -= lr * p.grad\n",
    "\n",
    "  if i % 1000 == 0:\n",
    "    print(f\"{i} -> {loss.item():.4f}\")\n",
    "\n",
    "  lossi.append(loss.log10().item())\n",
    "  #if i >= 1000:\n",
    "  #  break "
   ]
  },
  {
   "cell_type": "code",
   "execution_count": null,
   "id": "8e5d7735-692f-4237-be81-64c84cd3d445",
   "metadata": {},
   "outputs": [
    {
     "data": {
      "text/plain": [
       "[<matplotlib.lines.Line2D>]"
      ]
     },
     "execution_count": null,
     "metadata": {},
     "output_type": "execute_result"
    },
    {
     "data": {
      "image/png": "[encoded data removed]",
      "text/plain": [
       "<Figure size 640x480 with 1 Axes>"
      ]
     },
     "metadata": {},
     "output_type": "display_data"
    }
   ],
   "source": [
    "plt.plot(torch.tensor(lossi).view(-1, 1000).mean(1))"
   ]
  },
  {
   "cell_type": "code",
   "execution_count": null,
   "id": "c1959ab8-7455-43e1-8eca-009de809e6b7",
   "metadata": {},
   "outputs": [
    {
     "name": "stdout",
     "output_type": "stream",
     "text": [
      "train 2.016251802444458\n",
      "val 2.112487554550171\n",
      "test 2.1067183017730713\n"
     ]
    }
   ],
   "source": [
    "@torch.no_grad\n",
    "def split_loss(split):\n",
    "        x,y = {\n",
    "            'train': (Xtr, Ytr),\n",
    "            'val': (Xdev, Ydev),\n",
    "            'test': (Xte, Yte),\n",
    "        }[split]\n",
    "        \n",
    "        model.eval()\n",
    "        pred = model(x)\n",
    "        loss = F.cross_entropy(pred, y)\n",
    "        print(split, loss.item())\n",
    "\n",
    "split_loss('train')\n",
    "split_loss('val')\n",
    "split_loss('test')\n"
   ]
  },
  {
   "cell_type": "markdown",
   "id": "47c1086a-1c1c-46a1-bf02-7dd436e7fda8",
   "metadata": {},
   "source": [
    "## Resnet"
   ]
  },
  {
   "cell_type": "markdown",
   "id": "0ee9048a-2505-494d-8851-19961458be50",
   "metadata": {},
   "source": [
    "![](./static/resnet.png \"Resnet Block\")"
   ]
  },
  {
   "cell_type": "code",
   "execution_count": null,
   "id": "75c85abf-85b4-443e-ae26-aae5c735abd4",
   "metadata": {},
   "outputs": [],
   "source": [
    "def conv(ni, nf, k=3, s=1):\n",
    "    layer = [nn.Conv1d(ni, nf,  kernel_size=k, stride=s, padding=(k-1)//2)]\n",
    "    layer.append(nn.BatchNorm1d(nf))\n",
    "    \n",
    "    return nn.Sequential(*layer)\n",
    "    \n",
    "class ResBlock(nn.Module):\n",
    "    def __init__(self, ni, nf, k=3):\n",
    "        super(ResBlock, self).__init__()\n",
    "        self.conv1 = conv(ni, nf,  k=k, s=2)\n",
    "        self.conv2 = conv(nf, nf,  k=1)\n",
    "        #self.conv2 = nn.AvgPool1d(2, stride=2, padding=1)\n",
    "        self.iden = conv(nf, nf,  k=1)\n",
    "    def forward(self, x):\n",
    "        x = self.conv1(x)\n",
    "        y = self.iden(x)      #self.conv2(x)             # resblock\n",
    "        x = x.tanh() * x.sigmoid()\n",
    "        #print(\"x\", x.shape)\n",
    "        #print(\"y\", y.shape)\n",
    "        \n",
    "        x = F.relu(self.conv2(x) + x)\n",
    "        \n",
    "        return x"
   ]
  },
  {
   "cell_type": "code",
   "execution_count": null,
   "id": "102e7412-d892-41d8-ab5c-5cb8e6d1b714",
   "metadata": {},
   "outputs": [
    {
     "data": {
      "text/plain": [
       "torch.Size([512, 4, 64])"
      ]
     },
     "execution_count": null,
     "metadata": {},
     "output_type": "execute_result"
    }
   ],
   "source": [
    "x = torch.randn((bs, block_size//2, n_embd * 2))\n",
    "x.shape"
   ]
  },
  {
   "cell_type": "code",
   "execution_count": null,
   "id": "1edcd6cd-bbdd-4b80-9a33-d3401c44cf25",
   "metadata": {},
   "outputs": [],
   "source": [
    "r = ResBlock(4, 4)\n",
    "op = r(x)"
   ]
  },
  {
   "cell_type": "code",
   "execution_count": null,
   "id": "1b8d52b3-33b7-493a-8870-df472e0845ac",
   "metadata": {},
   "outputs": [
    {
     "data": {
      "text/plain": [
       "torch.Size([512, 4, 32])"
      ]
     },
     "execution_count": null,
     "metadata": {},
     "output_type": "execute_result"
    }
   ],
   "source": [
    "op.shape"
   ]
  },
  {
   "cell_type": "markdown",
   "id": "55aac1a8-7946-4fe3-adad-d9e625f5ac82",
   "metadata": {},
   "source": [
    "![](./static/diletne.png \"Resnet Block\")\n",
    "- using context window of 8\n",
    "- so the no of hidden layer 4"
   ]
  },
  {
   "cell_type": "code",
   "execution_count": null,
   "id": "d023835c-55bd-41be-8214-0d2c55afa64c",
   "metadata": {},
   "outputs": [
    {
     "name": "stdout",
     "output_type": "stream",
     "text": [
      "24717\n"
     ]
    },
    {
     "data": {
      "text/plain": [
       "CNN(\n",
       "  (emb): Embedding(27, 32)\n",
       "  (b1): ResBlock(\n",
       "    (conv1): Sequential(\n",
       "      (0): Conv1d(4, 4, kernel_size=(7,), stride=(2,), padding=(3,))\n",
       "      (1): BatchNorm1d(4, eps=1e-05, momentum=0.1, affine=True, track_running_stats=True)\n",
       "    )\n",
       "    (conv2): Sequential(\n",
       "      (0): Conv1d(4, 4, kernel_size=(1,), stride=(1,))\n",
       "      (1): BatchNorm1d(4, eps=1e-05, momentum=0.1, affine=True, track_running_stats=True)\n",
       "    )\n",
       "    (iden): Sequential(\n",
       "      (0): Conv1d(4, 4, kernel_size=(1,), stride=(1,))\n",
       "      (1): BatchNorm1d(4, eps=1e-05, momentum=0.1, affine=True, track_running_stats=True)\n",
       "    )\n",
       "  )\n",
       "  (b2): ResBlock(\n",
       "    (conv1): Sequential(\n",
       "      (0): Conv1d(2, 2, kernel_size=(7,), stride=(2,), padding=(3,))\n",
       "      (1): BatchNorm1d(2, eps=1e-05, momentum=0.1, affine=True, track_running_stats=True)\n",
       "    )\n",
       "    (conv2): Sequential(\n",
       "      (0): Conv1d(2, 2, kernel_size=(1,), stride=(1,))\n",
       "      (1): BatchNorm1d(2, eps=1e-05, momentum=0.1, affine=True, track_running_stats=True)\n",
       "    )\n",
       "    (iden): Sequential(\n",
       "      (0): Conv1d(2, 2, kernel_size=(1,), stride=(1,))\n",
       "      (1): BatchNorm1d(2, eps=1e-05, momentum=0.1, affine=True, track_running_stats=True)\n",
       "    )\n",
       "  )\n",
       "  (b3): ResBlock(\n",
       "    (conv1): Sequential(\n",
       "      (0): Conv1d(1, 2, kernel_size=(7,), stride=(2,), padding=(3,))\n",
       "      (1): BatchNorm1d(2, eps=1e-05, momentum=0.1, affine=True, track_running_stats=True)\n",
       "    )\n",
       "    (conv2): Sequential(\n",
       "      (0): Conv1d(2, 2, kernel_size=(1,), stride=(1,))\n",
       "      (1): BatchNorm1d(2, eps=1e-05, momentum=0.1, affine=True, track_running_stats=True)\n",
       "    )\n",
       "    (iden): Sequential(\n",
       "      (0): Conv1d(2, 2, kernel_size=(1,), stride=(1,))\n",
       "      (1): BatchNorm1d(2, eps=1e-05, momentum=0.1, affine=True, track_running_stats=True)\n",
       "    )\n",
       "  )\n",
       "  (ln1): Linear(in_features=64, out_features=256, bias=True)\n",
       "  (ln2): Linear(in_features=256, out_features=27, bias=True)\n",
       ")"
      ]
     },
     "execution_count": null,
     "metadata": {},
     "output_type": "execute_result"
    }
   ],
   "source": [
    "class CNN(nn.Module):\n",
    "    def __init__(self):\n",
    "        super(CNN, self).__init__()\n",
    "        self.emb = nn.Embedding(vocab_size, n_embd)\n",
    "        self.b1 = ResBlock(4, 4, k=7)\n",
    "        self.b2 = ResBlock(2, 2, k=7)\n",
    "        self.b3 = ResBlock(1, 2, k=7)\n",
    "        self.flat = FlattenConsecutive(2)\n",
    "        self.ln1 = nn.Linear(n_embd*2, n_hidden)\n",
    "        self.ln2 = nn.Linear(n_hidden, vocab_size)\n",
    "        \n",
    "        \n",
    "        \n",
    "    def forward(self, x):\n",
    "        \n",
    "        x = self.emb(x)                     # bs * block_size * n_embd\n",
    "        #print(\"emb -> \", x.shape)\n",
    "        x = self.flat(x)                    # bs * block_size//2 * n_embd * 2\n",
    "        #print(\"flatten1 -> \",x.shape)\n",
    "        x = self.b1(x)                      # bs * block_size//2 * n_embd \n",
    "        #print(\"b1 -> \", x.shape)\n",
    "        x = self.flat(x)                    # bs * block_size//4 * n_embd * 2\n",
    "        #print(\"flatten2 -> \",x.shape)\n",
    "        x = self.b2(x)                      # bs * block_size//4 * n_embd \n",
    "        #print(\"b2 -> \",x.shape)\n",
    "        x = self.flat(x)                    # bs * block_size//8 * n_embd * 2\n",
    "        #print(\"flatten3 -> \",x.shape)\n",
    "        x = self.b3(x).view(-1, n_embd*2)              #.squeeze(1)           # bs * n_embd \n",
    "        #print(\"b3 -> \",x.shape)\n",
    "        x = self.ln2((self.ln1(x)).tanh())\n",
    "        return x\n",
    "model = CNN()\n",
    "parameters = model.parameters()\n",
    "print(sum(p.nelement() for p in parameters))\n",
    "model"
   ]
  },
  {
   "cell_type": "code",
   "execution_count": null,
   "id": "04fc3f38-6490-4440-abcf-caae96bee02c",
   "metadata": {},
   "outputs": [
    {
     "data": {
      "text/plain": [
       "(torch.Size([182625, 27]), tensor(3.3445, grad_fn=<NllLossBackward0>))"
      ]
     },
     "execution_count": null,
     "metadata": {},
     "output_type": "execute_result"
    }
   ],
   "source": [
    "pred = model(Xtr)\n",
    "loss = F.cross_entropy(pred, Ytr)\n",
    "pred.shape, loss"
   ]
  },
  {
   "cell_type": "code",
   "execution_count": null,
   "id": "254b675f-f891-4e4e-92d3-ae95f4620364",
   "metadata": {},
   "outputs": [],
   "source": [
    "n_iters = 20_000 * 2"
   ]
  },
  {
   "cell_type": "code",
   "execution_count": null,
   "id": "a19b5c35-6dc6-423c-bbd1-169d2db0b1ab",
   "metadata": {},
   "outputs": [
    {
     "name": "stdout",
     "output_type": "stream",
     "text": [
      "0 -> 3.3437\n",
      "1000 -> 2.1943\n",
      "2000 -> 2.1105\n",
      "3000 -> 2.0484\n",
      "4000 -> 2.0051\n",
      "5000 -> 2.0409\n",
      "6000 -> 1.9742\n",
      "7000 -> 1.9908\n",
      "8000 -> 1.9403\n",
      "9000 -> 2.0565\n",
      "10000 -> 1.9708\n",
      "11000 -> 1.9398\n",
      "12000 -> 1.9259\n",
      "13000 -> 1.8514\n",
      "14000 -> 1.9381\n",
      "15000 -> 1.9756\n",
      "16000 -> 1.8491\n",
      "17000 -> 1.9509\n",
      "18000 -> 1.9274\n",
      "19000 -> 1.8070\n",
      "20000 -> 1.8868\n",
      "21000 -> 1.9020\n",
      "22000 -> 1.8609\n",
      "23000 -> 1.9255\n",
      "24000 -> 1.8434\n",
      "25000 -> 1.9304\n",
      "26000 -> 1.8290\n",
      "27000 -> 1.8323\n",
      "28000 -> 1.9004\n",
      "29000 -> 1.8777\n",
      "30000 -> 1.8544\n",
      "31000 -> 1.8732\n",
      "32000 -> 1.8866\n",
      "33000 -> 1.8969\n",
      "34000 -> 1.8671\n",
      "35000 -> 1.8986\n",
      "36000 -> 1.8337\n",
      "37000 -> 1.9128\n",
      "38000 -> 1.8914\n",
      "39000 -> 1.8415\n"
     ]
    }
   ],
   "source": [
    "lossi = []\n",
    "for i in range(n_iters):\n",
    "  ix = torch.randint(0, Xtr.shape[0], (bs,))\n",
    "  Xb, Yb = Xtr[ix], Ytr[ix] # batch\n",
    "    \n",
    "  pred = model(Xb)\n",
    "\n",
    "  loss = F.cross_entropy(pred, Yb)\n",
    "\n",
    "  # backward pass\n",
    "  model.zero_grad()\n",
    "  loss.backward()\n",
    "\n",
    "  # update\n",
    "  lr = 0.5 if i < 10_000 else 0.009 # step learning rate decay\n",
    "  with torch.no_grad():\n",
    "      for p in model.parameters():\n",
    "          if p.grad is not None:\n",
    "            p.data -= lr * p.grad\n",
    "\n",
    "  if i % 1000 == 0:\n",
    "    print(f\"{i} -> {loss.item():.4f}\")\n",
    "\n",
    "  lossi.append(loss.log10().item())\n",
    "  #if i >= 1000:\n",
    "  #  break "
   ]
  },
  {
   "cell_type": "code",
   "execution_count": null,
   "id": "7ad8c250-201c-4c65-9940-9822cedef73b",
   "metadata": {},
   "outputs": [
    {
     "data": {
      "text/plain": [
       "[<matplotlib.lines.Line2D>]"
      ]
     },
     "execution_count": null,
     "metadata": {},
     "output_type": "execute_result"
    },
    {
     "data": {
      "image/png": "[encoded data removed]",
      "text/plain": [
       "<Figure size 640x480 with 1 Axes>"
      ]
     },
     "metadata": {},
     "output_type": "display_data"
    }
   ],
   "source": [
    "plt.plot(torch.tensor(lossi).view(-1, 1000).mean(1))"
   ]
  },
  {
   "cell_type": "code",
   "execution_count": null,
   "id": "c4b1ad30-15e0-44dc-9d14-553b13511520",
   "metadata": {},
   "outputs": [
    {
     "name": "stdout",
     "output_type": "stream",
     "text": [
      "train 1.874424934387207\n",
      "val 2.04878830909729\n",
      "test 2.050382614135742\n"
     ]
    }
   ],
   "source": [
    "@torch.no_grad\n",
    "def split_loss(split):\n",
    "        x,y = {\n",
    "            'train': (Xtr, Ytr),\n",
    "            'val': (Xdev, Ydev),\n",
    "            'test': (Xte, Yte),\n",
    "        }[split]\n",
    "        \n",
    "        model.eval()\n",
    "        pred = model(x)\n",
    "        loss = F.cross_entropy(pred, y)\n",
    "        print(split, loss.item())\n",
    "\n",
    "split_loss('train')\n",
    "split_loss('val')\n",
    "split_loss('test')\n"
   ]
  },
  {
   "cell_type": "code",
   "execution_count": null,
   "id": "b35f5e7d-22af-4b88-9444-899fb2c152f2",
   "metadata": {},
   "outputs": [
    {
     "name": "stdout",
     "output_type": "stream",
     "text": [
      "fell.\n",
      "anagioc.\n",
      "danor.\n",
      "amisa.\n",
      "anah.\n",
      "maley.\n",
      "aldree.\n",
      "christiah.\n",
      "coryn.\n",
      "seorika.\n",
      "neriah.\n",
      "jaclyn.\n",
      "momaroyg.\n",
      "joe.\n",
      "brighton.\n",
      "kaloni.\n",
      "laymar.\n",
      "kaionn.\n",
      "kormen.\n",
      "almos.\n"
     ]
    }
   ],
   "source": [
    "# sample from the model\n",
    "for _ in range(20):\n",
    "    \n",
    "    out = []\n",
    "    context = [0] * block_size # initialize with all ...\n",
    "    while True:\n",
    "      # forward pass the neural net\n",
    "      logits = model(torch.tensor([context]))\n",
    "      probs = F.softmax(logits, dim=1)\n",
    "      # sample from the distribution\n",
    "      ix = torch.multinomial(probs, num_samples=1).item()\n",
    "      # shift the context window and track the samples\n",
    "      context = context[1:] + [ix]\n",
    "      out.append(ix)\n",
    "      # if we sample the special '.' token, break\n",
    "      if ix == 0:\n",
    "        break\n",
    "    \n",
    "    print(''.join(itos[i] for i in out)) "
   ]
  },
  {
   "cell_type": "code",
   "execution_count": null,
   "id": "011a5725-ae2c-449d-97f9-a77ddaac9dd9",
   "metadata": {},
   "outputs": [],
   "source": []
  }
 ],
 "metadata": {
  "kernelspec": {
   "display_name": "python3",
   "language": "python",
   "name": "python3"
  }
 },
 "nbformat": 4,
 "nbformat_minor": 5
}
